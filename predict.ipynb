{
 "cells": [
  {
   "cell_type": "markdown",
   "metadata": {},
   "source": [
    "# Predictions:"
   ]
  },
  {
   "cell_type": "code",
   "execution_count": 1,
   "metadata": {},
   "outputs": [],
   "source": [
    "import pandas as pd\n",
    "import joblib"
   ]
  },
  {
   "cell_type": "markdown",
   "metadata": {},
   "source": [
    "## Choosing the Instance to Predic:"
   ]
  },
  {
   "cell_type": "code",
   "execution_count": 5,
   "metadata": {},
   "outputs": [
    {
     "data": {
      "text/html": [
       "<div>\n",
       "<style scoped>\n",
       "    .dataframe tbody tr th:only-of-type {\n",
       "        vertical-align: middle;\n",
       "    }\n",
       "\n",
       "    .dataframe tbody tr th {\n",
       "        vertical-align: top;\n",
       "    }\n",
       "\n",
       "    .dataframe thead th {\n",
       "        text-align: right;\n",
       "    }\n",
       "</style>\n",
       "<table border=\"1\" class=\"dataframe\">\n",
       "  <thead>\n",
       "    <tr style=\"text-align: right;\">\n",
       "      <th></th>\n",
       "      <th>Unnamed: 0</th>\n",
       "      <th>id</th>\n",
       "      <th>nome</th>\n",
       "      <th>host_id</th>\n",
       "      <th>host_name</th>\n",
       "      <th>bairro_group</th>\n",
       "      <th>bairro</th>\n",
       "      <th>latitude</th>\n",
       "      <th>longitude</th>\n",
       "      <th>room_type</th>\n",
       "      <th>...</th>\n",
       "      <th>min_nights_category</th>\n",
       "      <th>bairro_group_Bronx</th>\n",
       "      <th>bairro_group_Brooklyn</th>\n",
       "      <th>bairro_group_Manhattan</th>\n",
       "      <th>bairro_group_Queens</th>\n",
       "      <th>bairro_group_Staten Island</th>\n",
       "      <th>room_type_Entire home/apt</th>\n",
       "      <th>room_type_Private room</th>\n",
       "      <th>room_type_Shared room</th>\n",
       "      <th>price</th>\n",
       "    </tr>\n",
       "  </thead>\n",
       "  <tbody>\n",
       "    <tr>\n",
       "      <th>0</th>\n",
       "      <td>0</td>\n",
       "      <td>2595</td>\n",
       "      <td>Skylit Midtown Castle</td>\n",
       "      <td>2845</td>\n",
       "      <td>Jennifer</td>\n",
       "      <td>Manhattan</td>\n",
       "      <td>Midtown</td>\n",
       "      <td>40.75362</td>\n",
       "      <td>-73.98377</td>\n",
       "      <td>Entire home/apt</td>\n",
       "      <td>...</td>\n",
       "      <td>0</td>\n",
       "      <td>0.0</td>\n",
       "      <td>0.0</td>\n",
       "      <td>1.0</td>\n",
       "      <td>0.0</td>\n",
       "      <td>0.0</td>\n",
       "      <td>1.0</td>\n",
       "      <td>0.0</td>\n",
       "      <td>0.0</td>\n",
       "      <td>225</td>\n",
       "    </tr>\n",
       "  </tbody>\n",
       "</table>\n",
       "<p>1 rows × 57 columns</p>\n",
       "</div>"
      ],
      "text/plain": [
       "   Unnamed: 0    id                   nome  host_id host_name bairro_group  \\\n",
       "0           0  2595  Skylit Midtown Castle     2845  Jennifer    Manhattan   \n",
       "\n",
       "    bairro  latitude  longitude        room_type  ...  min_nights_category  \\\n",
       "0  Midtown  40.75362  -73.98377  Entire home/apt  ...                    0   \n",
       "\n",
       "   bairro_group_Bronx bairro_group_Brooklyn  bairro_group_Manhattan  \\\n",
       "0                 0.0                   0.0                     1.0   \n",
       "\n",
       "   bairro_group_Queens  bairro_group_Staten Island  room_type_Entire home/apt  \\\n",
       "0                  0.0                         0.0                        1.0   \n",
       "\n",
       "  room_type_Private room  room_type_Shared room  price  \n",
       "0                    0.0                    0.0    225  \n",
       "\n",
       "[1 rows x 57 columns]"
      ]
     },
     "execution_count": 5,
     "metadata": {},
     "output_type": "execute_result"
    }
   ],
   "source": [
    "data_instancia_to_predic = pd.read_csv(\"data/data_instancia_to_predic.csv\")\n",
    "data_instancia_to_predic"
   ]
  },
  {
   "cell_type": "markdown",
   "metadata": {},
   "source": [
    "### Choosing the Model to Predict:"
   ]
  },
  {
   "cell_type": "code",
   "execution_count": 6,
   "metadata": {},
   "outputs": [
    {
     "name": "stdout",
     "output_type": "stream",
     "text": [
      "<catboost.core.CatBoostRegressor object at 0x00000203FC3AD730>\n",
      "As features treinadas deste modelo foi: \n"
     ]
    },
    {
     "data": {
      "text/plain": [
       "['latitude',\n",
       " 'longitude',\n",
       " 'bairro',\n",
       " 'room_type',\n",
       " 'minimo_noites',\n",
       " 'numero_de_reviews',\n",
       " 'reviews_por_mes',\n",
       " 'calculado_host_listings_count',\n",
       " 'disponibilidade_365',\n",
       " 'tempo_desde_ultimo_review',\n",
       " 'trimestre_review',\n",
       " 'nome_sentiment',\n",
       " 'dist_manhattan_center',\n",
       " 'dist_central_park',\n",
       " 'dist_wall_street',\n",
       " 'dist_statue_of_liberty',\n",
       " 'dist_jfk_airport',\n",
       " 'dist_la_guardia_airport',\n",
       " 'dist_ubs_arena',\n",
       " 'dist_coney_island_beach',\n",
       " 'preco_medio_bairro',\n",
       " 'min_nights_category']"
      ]
     },
     "execution_count": 6,
     "metadata": {},
     "output_type": "execute_result"
    }
   ],
   "source": [
    "# Load the Model\n",
    "import joblib\n",
    "\n",
    "model_path = 'models/catboost_model_20250208_131741.pkl'\n",
    "\n",
    "# Load the model from the file\n",
    "loaded_model = joblib.load(model_path)\n",
    "\n",
    "# Verify the model is loaded correctly\n",
    "print(loaded_model)\n",
    "print(\"As features treinadas deste modelo foi: \")\n",
    "features_to_predict = loaded_model.feature_names_\n",
    "features_to_predict"
   ]
  },
  {
   "cell_type": "markdown",
   "metadata": {},
   "source": [
    "### Features of Instance to Predic:"
   ]
  },
  {
   "cell_type": "code",
   "execution_count": 7,
   "metadata": {},
   "outputs": [
    {
     "data": {
      "text/html": [
       "<div>\n",
       "<style scoped>\n",
       "    .dataframe tbody tr th:only-of-type {\n",
       "        vertical-align: middle;\n",
       "    }\n",
       "\n",
       "    .dataframe tbody tr th {\n",
       "        vertical-align: top;\n",
       "    }\n",
       "\n",
       "    .dataframe thead th {\n",
       "        text-align: right;\n",
       "    }\n",
       "</style>\n",
       "<table border=\"1\" class=\"dataframe\">\n",
       "  <thead>\n",
       "    <tr style=\"text-align: right;\">\n",
       "      <th></th>\n",
       "      <th>latitude</th>\n",
       "      <th>longitude</th>\n",
       "      <th>bairro</th>\n",
       "      <th>room_type</th>\n",
       "      <th>minimo_noites</th>\n",
       "      <th>numero_de_reviews</th>\n",
       "      <th>reviews_por_mes</th>\n",
       "      <th>calculado_host_listings_count</th>\n",
       "      <th>disponibilidade_365</th>\n",
       "      <th>tempo_desde_ultimo_review</th>\n",
       "      <th>...</th>\n",
       "      <th>dist_manhattan_center</th>\n",
       "      <th>dist_central_park</th>\n",
       "      <th>dist_wall_street</th>\n",
       "      <th>dist_statue_of_liberty</th>\n",
       "      <th>dist_jfk_airport</th>\n",
       "      <th>dist_la_guardia_airport</th>\n",
       "      <th>dist_ubs_arena</th>\n",
       "      <th>dist_coney_island_beach</th>\n",
       "      <th>preco_medio_bairro</th>\n",
       "      <th>min_nights_category</th>\n",
       "    </tr>\n",
       "  </thead>\n",
       "  <tbody>\n",
       "    <tr>\n",
       "      <th>0</th>\n",
       "      <td>40.75362</td>\n",
       "      <td>-73.98377</td>\n",
       "      <td>Midtown</td>\n",
       "      <td>Entire home/apt</td>\n",
       "      <td>1</td>\n",
       "      <td>45</td>\n",
       "      <td>0.38</td>\n",
       "      <td>2</td>\n",
       "      <td>355</td>\n",
       "      <td>2089.0</td>\n",
       "      <td>...</td>\n",
       "      <td>0.507861</td>\n",
       "      <td>3.731366</td>\n",
       "      <td>5.69514</td>\n",
       "      <td>8.799439</td>\n",
       "      <td>21.391484</td>\n",
       "      <td>9.62566</td>\n",
       "      <td>22.262269</td>\n",
       "      <td>20.159783</td>\n",
       "      <td>253.893204</td>\n",
       "      <td>0</td>\n",
       "    </tr>\n",
       "  </tbody>\n",
       "</table>\n",
       "<p>1 rows × 22 columns</p>\n",
       "</div>"
      ],
      "text/plain": [
       "   latitude  longitude   bairro        room_type  minimo_noites  \\\n",
       "0  40.75362  -73.98377  Midtown  Entire home/apt              1   \n",
       "\n",
       "   numero_de_reviews  reviews_por_mes  calculado_host_listings_count  \\\n",
       "0                 45             0.38                              2   \n",
       "\n",
       "   disponibilidade_365  tempo_desde_ultimo_review  ... dist_manhattan_center  \\\n",
       "0                  355                     2089.0  ...              0.507861   \n",
       "\n",
       "   dist_central_park  dist_wall_street  dist_statue_of_liberty  \\\n",
       "0           3.731366           5.69514                8.799439   \n",
       "\n",
       "   dist_jfk_airport  dist_la_guardia_airport  dist_ubs_arena  \\\n",
       "0         21.391484                  9.62566       22.262269   \n",
       "\n",
       "   dist_coney_island_beach  preco_medio_bairro  min_nights_category  \n",
       "0                20.159783          253.893204                    0  \n",
       "\n",
       "[1 rows x 22 columns]"
      ]
     },
     "execution_count": 7,
     "metadata": {},
     "output_type": "execute_result"
    }
   ],
   "source": [
    "data_instancia_to_predic[features_to_predict]"
   ]
  },
  {
   "cell_type": "markdown",
   "metadata": {},
   "source": [
    "### Prediction:"
   ]
  },
  {
   "cell_type": "code",
   "execution_count": 8,
   "metadata": {},
   "outputs": [
    {
     "name": "stdout",
     "output_type": "stream",
     "text": [
      "Predicted Price: $332.20\n"
     ]
    }
   ],
   "source": [
    "prediction = loaded_model.predict(data_instancia_to_predic[features_to_predict])\n",
    "\n",
    "# Exibir o resultado\n",
    "print(f\"Predicted Price: ${prediction[0]:.2f}\")"
   ]
  },
  {
   "cell_type": "code",
   "execution_count": null,
   "metadata": {},
   "outputs": [],
   "source": [
    "# User Input\n",
    "entry = {'id': 2595,\n",
    " 'nome': 'Skylit Midtown Castle',\n",
    " 'host_id': 2845,\n",
    " 'host_name': 'Jennifer',\n",
    " 'bairro_group': 'Manhattan',\n",
    " 'bairro': 'Midtown',\n",
    " 'latitude': 40.75362,\n",
    " 'longitude': -73.98377,\n",
    " 'room_type': 'Entire home/apt',\n",
    " 'minimo_noites': 1,\n",
    " 'numero_de_reviews': 45,\n",
    " 'ultima_review': '2019-05-21',\n",
    " 'reviews_por_mes': 0.38,\n",
    " 'calculado_host_listings_count': 2,\n",
    " 'disponibilidade_365': 355\n",
    " }"
   ]
  }
 ],
 "metadata": {
  "kernelspec": {
   "display_name": "base",
   "language": "python",
   "name": "python3"
  },
  "language_info": {
   "codemirror_mode": {
    "name": "ipython",
    "version": 3
   },
   "file_extension": ".py",
   "mimetype": "text/x-python",
   "name": "python",
   "nbconvert_exporter": "python",
   "pygments_lexer": "ipython3",
   "version": "3.12.7"
  }
 },
 "nbformat": 4,
 "nbformat_minor": 2
}
