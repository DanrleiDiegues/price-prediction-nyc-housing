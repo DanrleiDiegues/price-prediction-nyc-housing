{
 "cells": [
  {
   "cell_type": "markdown",
   "metadata": {},
   "source": [
    "### Modeling"
   ]
  },
  {
   "cell_type": "code",
   "execution_count": 8,
   "metadata": {},
   "outputs": [],
   "source": [
    "import pandas as pd\n",
    "import numpy as np\n",
    "import matplotlib.pyplot as plt\n",
    "import seaborn as sns\n",
    "from sklearn.model_selection import train_test_split\n",
    "from sklearn.metrics import mean_squared_error, mean_absolute_error, r2_score\n",
    "\n",
    "def evaluate_model(y_true, y_pred, model_name):\n",
    "    mse = mean_squared_error(y_true, y_pred)\n",
    "    rmse = mean_squared_error(y_true, y_pred, squared=False)\n",
    "    mae = mean_absolute_error(y_true, y_pred)\n",
    "    r2 = r2_score(y_true, y_pred)\n",
    "    \n",
    "    print(f'📊 {model_name} Performance:')\n",
    "    print(f'MSE: {mse:.2f}')\n",
    "    print(f'RMSE: {rmse:.2f}')\n",
    "    print(f'MAE: {mae:.2f}')\n",
    "    print(f'R²: {r2:.4f}')\n",
    "    print('-' * 30)\n",
    "    \n",
    "    return mse, rmse, mae, r2"
   ]
  },
  {
   "cell_type": "markdown",
   "metadata": {},
   "source": [
    "# Model with Numerical Scaled Data:"
   ]
  },
  {
   "cell_type": "code",
   "execution_count": 29,
   "metadata": {},
   "outputs": [
    {
     "data": {
      "text/html": [
       "<div>\n",
       "<style scoped>\n",
       "    .dataframe tbody tr th:only-of-type {\n",
       "        vertical-align: middle;\n",
       "    }\n",
       "\n",
       "    .dataframe tbody tr th {\n",
       "        vertical-align: top;\n",
       "    }\n",
       "\n",
       "    .dataframe thead th {\n",
       "        text-align: right;\n",
       "    }\n",
       "</style>\n",
       "<table border=\"1\" class=\"dataframe\">\n",
       "  <thead>\n",
       "    <tr style=\"text-align: right;\">\n",
       "      <th></th>\n",
       "      <th>host_id</th>\n",
       "      <th>latitude</th>\n",
       "      <th>longitude</th>\n",
       "      <th>minimo_noites</th>\n",
       "      <th>numero_de_reviews</th>\n",
       "      <th>reviews_por_mes</th>\n",
       "      <th>calculado_host_listings_count</th>\n",
       "      <th>disponibilidade_365</th>\n",
       "      <th>tempo_desde_ultimo_review</th>\n",
       "      <th>nome_tfidf_mean</th>\n",
       "      <th>...</th>\n",
       "      <th>min_nights_category</th>\n",
       "      <th>bairro_group_Bronx</th>\n",
       "      <th>bairro_group_Brooklyn</th>\n",
       "      <th>bairro_group_Manhattan</th>\n",
       "      <th>bairro_group_Queens</th>\n",
       "      <th>bairro_group_Staten Island</th>\n",
       "      <th>room_type_Entire home/apt</th>\n",
       "      <th>room_type_Private room</th>\n",
       "      <th>room_type_Shared room</th>\n",
       "      <th>price</th>\n",
       "    </tr>\n",
       "  </thead>\n",
       "  <tbody>\n",
       "    <tr>\n",
       "      <th>0</th>\n",
       "      <td>-0.860173</td>\n",
       "      <td>0.452411</td>\n",
       "      <td>-0.684642</td>\n",
       "      <td>-0.570973</td>\n",
       "      <td>0.609452</td>\n",
       "      <td>-0.450550</td>\n",
       "      <td>-0.156104</td>\n",
       "      <td>1.840364</td>\n",
       "      <td>-0.678397</td>\n",
       "      <td>-1.555497</td>\n",
       "      <td>...</td>\n",
       "      <td>-1.017988</td>\n",
       "      <td>-0.151072</td>\n",
       "      <td>-0.835607</td>\n",
       "      <td>1.121266</td>\n",
       "      <td>-0.362039</td>\n",
       "      <td>-0.087678</td>\n",
       "      <td>0.961394</td>\n",
       "      <td>-0.916660</td>\n",
       "      <td>-0.155889</td>\n",
       "      <td>225</td>\n",
       "    </tr>\n",
       "    <tr>\n",
       "      <th>1</th>\n",
       "      <td>-0.860151</td>\n",
       "      <td>1.468387</td>\n",
       "      <td>0.222486</td>\n",
       "      <td>-0.340411</td>\n",
       "      <td>-0.582386</td>\n",
       "      <td>-0.691704</td>\n",
       "      <td>-0.186450</td>\n",
       "      <td>1.916342</td>\n",
       "      <td>1.865497</td>\n",
       "      <td>0.497060</td>\n",
       "      <td>...</td>\n",
       "      <td>-0.160430</td>\n",
       "      <td>-0.151072</td>\n",
       "      <td>-0.835607</td>\n",
       "      <td>1.121266</td>\n",
       "      <td>-0.362039</td>\n",
       "      <td>-0.087678</td>\n",
       "      <td>-1.040156</td>\n",
       "      <td>1.090917</td>\n",
       "      <td>-0.155889</td>\n",
       "      <td>150</td>\n",
       "    </tr>\n",
       "    <tr>\n",
       "      <th>2</th>\n",
       "      <td>-0.860148</td>\n",
       "      <td>-0.803438</td>\n",
       "      <td>-0.164457</td>\n",
       "      <td>-0.570973</td>\n",
       "      <td>3.973083</td>\n",
       "      <td>2.252910</td>\n",
       "      <td>-0.186450</td>\n",
       "      <td>0.617121</td>\n",
       "      <td>-0.716850</td>\n",
       "      <td>-0.120119</td>\n",
       "      <td>...</td>\n",
       "      <td>-1.017988</td>\n",
       "      <td>-0.151072</td>\n",
       "      <td>1.196735</td>\n",
       "      <td>-0.891849</td>\n",
       "      <td>-0.362039</td>\n",
       "      <td>-0.087678</td>\n",
       "      <td>0.961394</td>\n",
       "      <td>-0.916660</td>\n",
       "      <td>-0.155889</td>\n",
       "      <td>89</td>\n",
       "    </tr>\n",
       "    <tr>\n",
       "      <th>3</th>\n",
       "      <td>-0.860118</td>\n",
       "      <td>1.275645</td>\n",
       "      <td>0.177205</td>\n",
       "      <td>0.466557</td>\n",
       "      <td>-0.344018</td>\n",
       "      <td>-0.628243</td>\n",
       "      <td>-0.186450</td>\n",
       "      <td>-0.856849</td>\n",
       "      <td>-0.522020</td>\n",
       "      <td>1.476006</td>\n",
       "      <td>...</td>\n",
       "      <td>0.697127</td>\n",
       "      <td>-0.151072</td>\n",
       "      <td>-0.835607</td>\n",
       "      <td>1.121266</td>\n",
       "      <td>-0.362039</td>\n",
       "      <td>-0.087678</td>\n",
       "      <td>0.961394</td>\n",
       "      <td>-0.916660</td>\n",
       "      <td>-0.155889</td>\n",
       "      <td>80</td>\n",
       "    </tr>\n",
       "    <tr>\n",
       "      <th>4</th>\n",
       "      <td>-0.860116</td>\n",
       "      <td>0.343295</td>\n",
       "      <td>-0.494637</td>\n",
       "      <td>-0.340411</td>\n",
       "      <td>1.377525</td>\n",
       "      <td>-0.317281</td>\n",
       "      <td>-0.186450</td>\n",
       "      <td>0.123265</td>\n",
       "      <td>-0.705741</td>\n",
       "      <td>0.896101</td>\n",
       "      <td>...</td>\n",
       "      <td>-0.160430</td>\n",
       "      <td>-0.151072</td>\n",
       "      <td>-0.835607</td>\n",
       "      <td>1.121266</td>\n",
       "      <td>-0.362039</td>\n",
       "      <td>-0.087678</td>\n",
       "      <td>0.961394</td>\n",
       "      <td>-0.916660</td>\n",
       "      <td>-0.155889</td>\n",
       "      <td>200</td>\n",
       "    </tr>\n",
       "  </tbody>\n",
       "</table>\n",
       "<p>5 rows × 47 columns</p>\n",
       "</div>"
      ],
      "text/plain": [
       "    host_id  latitude  longitude  minimo_noites  numero_de_reviews  \\\n",
       "0 -0.860173  0.452411  -0.684642      -0.570973           0.609452   \n",
       "1 -0.860151  1.468387   0.222486      -0.340411          -0.582386   \n",
       "2 -0.860148 -0.803438  -0.164457      -0.570973           3.973083   \n",
       "3 -0.860118  1.275645   0.177205       0.466557          -0.344018   \n",
       "4 -0.860116  0.343295  -0.494637      -0.340411           1.377525   \n",
       "\n",
       "   reviews_por_mes  calculado_host_listings_count  disponibilidade_365  \\\n",
       "0        -0.450550                      -0.156104             1.840364   \n",
       "1        -0.691704                      -0.186450             1.916342   \n",
       "2         2.252910                      -0.186450             0.617121   \n",
       "3        -0.628243                      -0.186450            -0.856849   \n",
       "4        -0.317281                      -0.186450             0.123265   \n",
       "\n",
       "   tempo_desde_ultimo_review  nome_tfidf_mean  ...  min_nights_category  \\\n",
       "0                  -0.678397        -1.555497  ...            -1.017988   \n",
       "1                   1.865497         0.497060  ...            -0.160430   \n",
       "2                  -0.716850        -0.120119  ...            -1.017988   \n",
       "3                  -0.522020         1.476006  ...             0.697127   \n",
       "4                  -0.705741         0.896101  ...            -0.160430   \n",
       "\n",
       "   bairro_group_Bronx  bairro_group_Brooklyn  bairro_group_Manhattan  \\\n",
       "0           -0.151072              -0.835607                1.121266   \n",
       "1           -0.151072              -0.835607                1.121266   \n",
       "2           -0.151072               1.196735               -0.891849   \n",
       "3           -0.151072              -0.835607                1.121266   \n",
       "4           -0.151072              -0.835607                1.121266   \n",
       "\n",
       "   bairro_group_Queens  bairro_group_Staten Island  room_type_Entire home/apt  \\\n",
       "0            -0.362039                   -0.087678                   0.961394   \n",
       "1            -0.362039                   -0.087678                  -1.040156   \n",
       "2            -0.362039                   -0.087678                   0.961394   \n",
       "3            -0.362039                   -0.087678                   0.961394   \n",
       "4            -0.362039                   -0.087678                   0.961394   \n",
       "\n",
       "   room_type_Private room  room_type_Shared room  price  \n",
       "0               -0.916660              -0.155889    225  \n",
       "1                1.090917              -0.155889    150  \n",
       "2               -0.916660              -0.155889     89  \n",
       "3               -0.916660              -0.155889     80  \n",
       "4               -0.916660              -0.155889    200  \n",
       "\n",
       "[5 rows x 47 columns]"
      ]
     },
     "execution_count": 29,
     "metadata": {},
     "output_type": "execute_result"
    }
   ],
   "source": [
    "data_ready_scaled = pd.read_csv('data/data_features_ready_scaled.csv')\n",
    "data_ready_scaled.head()"
   ]
  },
  {
   "cell_type": "code",
   "execution_count": 30,
   "metadata": {},
   "outputs": [
    {
     "name": "stdout",
     "output_type": "stream",
     "text": [
      "<class 'pandas.core.frame.DataFrame'>\n",
      "RangeIndex: 48894 entries, 0 to 48893\n",
      "Data columns (total 47 columns):\n",
      " #   Column                         Non-Null Count  Dtype  \n",
      "---  ------                         --------------  -----  \n",
      " 0   host_id                        48894 non-null  float64\n",
      " 1   latitude                       48894 non-null  float64\n",
      " 2   longitude                      48894 non-null  float64\n",
      " 3   minimo_noites                  48894 non-null  float64\n",
      " 4   numero_de_reviews              48894 non-null  float64\n",
      " 5   reviews_por_mes                48894 non-null  float64\n",
      " 6   calculado_host_listings_count  48894 non-null  float64\n",
      " 7   disponibilidade_365            48894 non-null  float64\n",
      " 8   tempo_desde_ultimo_review      48894 non-null  float64\n",
      " 9   nome_tfidf_mean                48894 non-null  float64\n",
      " 10  w2v_pca_1                      48894 non-null  float64\n",
      " 11  w2v_pca_2                      48894 non-null  float64\n",
      " 12  w2v_pca_3                      48894 non-null  float64\n",
      " 13  w2v_pca_4                      48894 non-null  float64\n",
      " 14  w2v_pca_5                      48894 non-null  float64\n",
      " 15  nome_sentiment                 48894 non-null  float64\n",
      " 16  location_cluster               48894 non-null  float64\n",
      " 17  dist_manhattan_center          48894 non-null  float64\n",
      " 18  dist_central_park              48894 non-null  float64\n",
      " 19  dist_times_square              48894 non-null  float64\n",
      " 20  dist_wall_street               48894 non-null  float64\n",
      " 21  dist_brooklyn_bridge           48894 non-null  float64\n",
      " 22  dist_empire_state_building     48894 non-null  float64\n",
      " 23  dist_statue_of_liberty         48894 non-null  float64\n",
      " 24  dist_jfk_airport               48894 non-null  float64\n",
      " 25  dist_la_guardia_airport        48894 non-null  float64\n",
      " 26  dist_yankee_stadium            48894 non-null  float64\n",
      " 27  dist_metropolitan_museum       48894 non-null  float64\n",
      " 28  dist_staten_island_greenbelt   48894 non-null  float64\n",
      " 29  dist_ubs_arena                 48894 non-null  float64\n",
      " 30  dist_coney_island_beach        48894 non-null  float64\n",
      " 31  dist_bronx_zoo                 48894 non-null  float64\n",
      " 32  h3_numeric                     48894 non-null  float64\n",
      " 33  preco_medio_bairro             48894 non-null  float64\n",
      " 34  Entire home/apt                48894 non-null  float64\n",
      " 35  Private room                   48894 non-null  float64\n",
      " 36  Shared room                    48894 non-null  float64\n",
      " 37  min_nights_category            48894 non-null  float64\n",
      " 38  bairro_group_Bronx             48894 non-null  float64\n",
      " 39  bairro_group_Brooklyn          48894 non-null  float64\n",
      " 40  bairro_group_Manhattan         48894 non-null  float64\n",
      " 41  bairro_group_Queens            48894 non-null  float64\n",
      " 42  bairro_group_Staten Island     48894 non-null  float64\n",
      " 43  room_type_Entire home/apt      48894 non-null  float64\n",
      " 44  room_type_Private room         48894 non-null  float64\n",
      " 45  room_type_Shared room          48894 non-null  float64\n",
      " 46  price                          48894 non-null  int64  \n",
      "dtypes: float64(46), int64(1)\n",
      "memory usage: 17.5 MB\n"
     ]
    }
   ],
   "source": [
    "data_ready_scaled.info()"
   ]
  },
  {
   "cell_type": "code",
   "execution_count": 32,
   "metadata": {},
   "outputs": [],
   "source": [
    "features_to_keep = [\"latitude\", \"longitude\", \"minimo_noites\", \"numero_de_reviews\", \"reviews_por_mes\", \n",
    "                    \"calculado_host_listings_count\", \"disponibilidade_365\", \"tempo_desde_ultimo_review\", \"nome_sentiment\",\n",
    "                    \"dist_manhattan_center\", \"dist_central_park\", \"dist_wall_street\", \"dist_statue_of_liberty\", \"dist_jfk_airport\", \"dist_la_guardia_airport\", \"dist_ubs_arena\", \"dist_coney_island_beach\", \n",
    "                    \"preco_medio_bairro\", \"min_nights_category\", \n",
    "                    \"room_type_Entire home/apt\", \"room_type_Private room\",\"room_type_Shared room\"\n",
    "                    ]\n",
    "\n",
    "X = data_ready_scaled[features_to_keep]  # Features\n",
    "y = data_ready_scaled['price']  # Target"
   ]
  },
  {
   "cell_type": "code",
   "execution_count": 5,
   "metadata": {},
   "outputs": [],
   "source": [
    "X = data_ready_scaled.drop(columns=['price'])  # Features\n",
    "y = data_ready_scaled['price']  # Target"
   ]
  },
  {
   "cell_type": "markdown",
   "metadata": {},
   "source": [
    "### First Training using Different Models:"
   ]
  },
  {
   "cell_type": "code",
   "execution_count": null,
   "metadata": {},
   "outputs": [
    {
     "name": "stdout",
     "output_type": "stream",
     "text": [
      "Training LinearRegression...\n",
      "Training RandomForest...\n",
      "Training XGBoost...\n",
      "Training LightGBM...\n",
      "[LightGBM] [Warning] Found whitespace in feature_names, replace with underlines\n",
      "[LightGBM] [Info] Auto-choosing col-wise multi-threading, the overhead of testing was 0.011036 seconds.\n",
      "You can set `force_col_wise=true` to remove the overhead.\n",
      "[LightGBM] [Info] Total Bins 3983\n",
      "[LightGBM] [Info] Number of data points in the train set: 39115, number of used features: 22\n",
      "[LightGBM] [Info] Start training from score 140.824262\n",
      "Training CatBoost...\n"
     ]
    },
    {
     "data": {
      "text/html": [
       "<div>\n",
       "<style scoped>\n",
       "    .dataframe tbody tr th:only-of-type {\n",
       "        vertical-align: middle;\n",
       "    }\n",
       "\n",
       "    .dataframe tbody tr th {\n",
       "        vertical-align: top;\n",
       "    }\n",
       "\n",
       "    .dataframe thead th {\n",
       "        text-align: right;\n",
       "    }\n",
       "</style>\n",
       "<table border=\"1\" class=\"dataframe\">\n",
       "  <thead>\n",
       "    <tr style=\"text-align: right;\">\n",
       "      <th></th>\n",
       "      <th>MSE</th>\n",
       "      <th>RMSE</th>\n",
       "      <th>MAE</th>\n",
       "      <th>R²</th>\n",
       "    </tr>\n",
       "  </thead>\n",
       "  <tbody>\n",
       "    <tr>\n",
       "      <th>LinearRegression</th>\n",
       "      <td>6142.849109</td>\n",
       "      <td>78.376330</td>\n",
       "      <td>50.878789</td>\n",
       "      <td>0.428297</td>\n",
       "    </tr>\n",
       "    <tr>\n",
       "      <th>RandomForest</th>\n",
       "      <td>5536.320150</td>\n",
       "      <td>74.406452</td>\n",
       "      <td>46.594345</td>\n",
       "      <td>0.484746</td>\n",
       "    </tr>\n",
       "    <tr>\n",
       "      <th>XGBoost</th>\n",
       "      <td>5304.429165</td>\n",
       "      <td>72.831512</td>\n",
       "      <td>45.288343</td>\n",
       "      <td>0.506328</td>\n",
       "    </tr>\n",
       "    <tr>\n",
       "      <th>LightGBM</th>\n",
       "      <td>5309.165211</td>\n",
       "      <td>72.864019</td>\n",
       "      <td>45.337695</td>\n",
       "      <td>0.505887</td>\n",
       "    </tr>\n",
       "    <tr>\n",
       "      <th>CatBoost</th>\n",
       "      <td>5457.879284</td>\n",
       "      <td>73.877461</td>\n",
       "      <td>46.057367</td>\n",
       "      <td>0.492046</td>\n",
       "    </tr>\n",
       "  </tbody>\n",
       "</table>\n",
       "</div>"
      ],
      "text/plain": [
       "                          MSE       RMSE        MAE        R²\n",
       "LinearRegression  6142.849109  78.376330  50.878789  0.428297\n",
       "RandomForest      5536.320150  74.406452  46.594345  0.484746\n",
       "XGBoost           5304.429165  72.831512  45.288343  0.506328\n",
       "LightGBM          5309.165211  72.864019  45.337695  0.505887\n",
       "CatBoost          5457.879284  73.877461  46.057367  0.492046"
      ]
     },
     "execution_count": 33,
     "metadata": {},
     "output_type": "execute_result"
    }
   ],
   "source": [
    "from sklearn.linear_model import LinearRegression\n",
    "from sklearn.ensemble import RandomForestRegressor\n",
    "from xgboost import XGBRegressor\n",
    "from lightgbm import LGBMRegressor\n",
    "from catboost import CatBoostRegressor\n",
    "from sklearn.metrics import mean_squared_error, mean_absolute_error, r2_score\n",
    "import numpy as np\n",
    "\n",
    "X_train, X_test, y_train, y_test = train_test_split(X, y, test_size=0.2, random_state=42)\n",
    "\n",
    "# Criando os modelos\n",
    "models = {\n",
    "    \"LinearRegression\": LinearRegression(),\n",
    "    \"RandomForest\": RandomForestRegressor(n_estimators=100, random_state=42),\n",
    "    \"XGBoost\": XGBRegressor(n_estimators=100, learning_rate=0.1, random_state=42),\n",
    "    \"LightGBM\": LGBMRegressor(n_estimators=100, learning_rate=0.1, random_state=42),\n",
    "    \"CatBoost\": CatBoostRegressor(n_estimators=100, learning_rate=0.1, verbose=0, random_state=42)\n",
    "}\n",
    "\n",
    "# Dicionário para armazenar os resultados\n",
    "results = {}\n",
    "\n",
    "# Treinamento e avaliação\n",
    "for name, model in models.items():\n",
    "    print(f\"Training {name}...\")\n",
    "    model.fit(X_train, y_train)  # Treina o modelo\n",
    "    \n",
    "    # Predição\n",
    "    y_pred = model.predict(X_test)\n",
    "    \n",
    "    # Cálculo das métricas\n",
    "    mse = mean_squared_error(y_test, y_pred)\n",
    "    rmse = np.sqrt(mse)\n",
    "    mae = mean_absolute_error(y_test, y_pred)\n",
    "    r2 = r2_score(y_test, y_pred)\n",
    "    \n",
    "    # Armazena os resultados\n",
    "    results[name] = {\"MSE\": mse, \"RMSE\": rmse, \"MAE\": mae, \"R²\": r2}\n",
    "\n",
    "# Exibir os resultados\n",
    "import pandas as pd\n",
    "df_results = pd.DataFrame(results).T\n",
    "df_results.head(10)"
   ]
  },
  {
   "cell_type": "markdown",
   "metadata": {},
   "source": [
    "# Hyperparameter Tunning"
   ]
  },
  {
   "cell_type": "markdown",
   "metadata": {},
   "source": [
    "## XGBoost"
   ]
  },
  {
   "cell_type": "code",
   "execution_count": 39,
   "metadata": {},
   "outputs": [
    {
     "data": {
      "image/png": "[encoded data removed]",
      "text/plain": [
       "<Figure size 1200x600 with 1 Axes>"
      ]
     },
     "metadata": {},
     "output_type": "display_data"
    },
    {
     "name": "stdout",
     "output_type": "stream",
     "text": [
      "📊 CatBoost Performance:\n",
      "MSE: 5304.43\n",
      "RMSE: 72.83\n",
      "MAE: 45.29\n",
      "R²: 0.5063\n",
      "------------------------------\n"
     ]
    },
    {
     "name": "stderr",
     "output_type": "stream",
     "text": [
      "c:\\Users\\danrl\\anaconda3\\Lib\\site-packages\\sklearn\\metrics\\_regression.py:492: FutureWarning: 'squared' is deprecated in version 1.4 and will be removed in 1.6. To calculate the root mean squared error, use the function'root_mean_squared_error'.\n",
      "  warnings.warn(\n"
     ]
    }
   ],
   "source": [
    "from xgboost import XGBRegressor\n",
    "from lightgbm import LGBMRegressor\n",
    "\n",
    "nome_do_experimento = \"Price_Prediction_Housing\"\n",
    "\n",
    "X_train, X_test, y_train, y_test = train_test_split(X, y, test_size=0.2, random_state=42)\n",
    "\n",
    "# Criando os modelos\n",
    "model = XGBRegressor(n_estimators=100, learning_rate=0.1, random_state=42)\n",
    "model.fit(X_train, y_train)\n",
    "\n",
    "feature_importance = model.feature_importances_\n",
    "\n",
    "# Criar um DataFrame para visualização\n",
    "importance_df = pd.DataFrame({\n",
    "    'Feature': X.columns,\n",
    "    'Importance': feature_importance\n",
    "}).sort_values(by='Importance', ascending=False)\n",
    "\n",
    "# Plotar a importância das features\n",
    "plt.figure(figsize=(12, 6))\n",
    "plt.barh(importance_df['Feature'], importance_df['Importance'], color='skyblue')\n",
    "plt.xlabel('Importância')\n",
    "plt.ylabel('Feature')\n",
    "plt.title('Importância das Features')\n",
    "plt.gca().invert_yaxis()\n",
    "plt.show()\n",
    "\n",
    "# Fazer previsões\n",
    "y_pred = model.predict(X_test)\n",
    "\n",
    "# Calcular métricas de avaliação\n",
    "mse, rmse, mae, r2 = evaluate_model(y_test, y_pred, \"CatBoost\")"
   ]
  },
  {
   "cell_type": "code",
   "execution_count": null,
   "metadata": {},
   "outputs": [],
   "source": []
  },
  {
   "cell_type": "markdown",
   "metadata": {},
   "source": [
    "## LGBMRegressor"
   ]
  },
  {
   "cell_type": "code",
   "execution_count": 42,
   "metadata": {},
   "outputs": [
    {
     "name": "stdout",
     "output_type": "stream",
     "text": [
      "[LightGBM] [Warning] Found whitespace in feature_names, replace with underlines\n",
      "[LightGBM] [Info] Auto-choosing row-wise multi-threading, the overhead of testing was 0.003762 seconds.\n",
      "You can set `force_row_wise=true` to remove the overhead.\n",
      "And if memory is not enough, you can set `force_col_wise=true`.\n",
      "[LightGBM] [Info] Total Bins 3983\n",
      "[LightGBM] [Info] Number of data points in the train set: 39115, number of used features: 22\n",
      "[LightGBM] [Info] Start training from score 140.824262\n"
     ]
    },
    {
     "data": {
      "image/png": "[encoded data removed]",
      "text/plain": [
       "<Figure size 1200x600 with 1 Axes>"
      ]
     },
     "metadata": {},
     "output_type": "display_data"
    },
    {
     "name": "stdout",
     "output_type": "stream",
     "text": [
      "📊 CatBoost Performance:\n",
      "MSE: 5309.17\n",
      "RMSE: 72.86\n",
      "MAE: 45.34\n",
      "R²: 0.5059\n",
      "------------------------------\n"
     ]
    },
    {
     "name": "stderr",
     "output_type": "stream",
     "text": [
      "c:\\Users\\danrl\\anaconda3\\Lib\\site-packages\\sklearn\\metrics\\_regression.py:492: FutureWarning: 'squared' is deprecated in version 1.4 and will be removed in 1.6. To calculate the root mean squared error, use the function'root_mean_squared_error'.\n",
      "  warnings.warn(\n"
     ]
    }
   ],
   "source": [
    "from lightgbm import LGBMRegressor\n",
    "\n",
    "nome_do_experimento = \"Price_Prediction_Housing\"\n",
    "\n",
    "X_train, X_test, y_train, y_test = train_test_split(X, y, test_size=0.2, random_state=42)\n",
    "\n",
    "# Criando os modelos\n",
    "model = LGBMRegressor(n_estimators=100, learning_rate=0.1, random_state=42)\n",
    "model.fit(X_train, y_train)\n",
    "\n",
    "feature_importance = model.feature_importances_\n",
    "\n",
    "# Criar um DataFrame para visualização\n",
    "importance_df = pd.DataFrame({\n",
    "    'Feature': X.columns,\n",
    "    'Importance': feature_importance\n",
    "}).sort_values(by='Importance', ascending=False)\n",
    "\n",
    "# Plotar a importância das features\n",
    "plt.figure(figsize=(12, 6))\n",
    "plt.barh(importance_df['Feature'], importance_df['Importance'], color='skyblue')\n",
    "plt.xlabel('Importância')\n",
    "plt.ylabel('Feature')\n",
    "plt.title('Importância das Features')\n",
    "plt.gca().invert_yaxis()\n",
    "plt.show()\n",
    "\n",
    "# Fazer previsões\n",
    "y_pred = model.predict(X_test)\n",
    "\n",
    "# Calcular métricas de avaliação\n",
    "mse, rmse, mae, r2 = evaluate_model(y_test, y_pred, \"CatBoost\")"
   ]
  },
  {
   "cell_type": "markdown",
   "metadata": {},
   "source": [
    "## LGBMRegressor - GridSearchCV"
   ]
  },
  {
   "cell_type": "code",
   "execution_count": null,
   "metadata": {},
   "outputs": [
    {
     "name": "stdout",
     "output_type": "stream",
     "text": [
      "Fitting 5 folds for each of 2916 candidates, totalling 14580 fits\n"
     ]
    }
   ],
   "source": [
    "import numpy as np\n",
    "import pandas as pd\n",
    "import matplotlib.pyplot as plt\n",
    "from lightgbm import LGBMRegressor\n",
    "from sklearn.model_selection import train_test_split, GridSearchCV\n",
    "from sklearn.metrics import mean_squared_error, mean_absolute_error, r2_score\n",
    "\n",
    "# Definição do experimento\n",
    "nome_do_experimento = \"Price_Prediction_Housing\"\n",
    "\n",
    "# Divisão dos dados\n",
    "X_train, X_test, y_train, y_test = train_test_split(X, y, test_size=0.2, random_state=42)\n",
    "\n",
    "# Definir a grade de hiperparâmetros para o tuning\n",
    "param_grid = {\n",
    "    'n_estimators': [100, 500, 1000],  # Número de árvores\n",
    "    'learning_rate': [0.01, 0.05, 0.1],  # Taxa de aprendizado\n",
    "    'max_depth': [-1, 5, 10],  # Profundidade máxima da árvore (-1 para ilimitado)\n",
    "    'num_leaves': [31, 50, 100],  # Número máximo de folhas em cada árvore\n",
    "    'subsample': [0.8, 1.0],  # Fração de amostras para treinamento\n",
    "    'colsample_bytree': [0.8, 1.0],  # Fração de colunas usadas para cada árvore\n",
    "    'reg_alpha': [0, 0.1, 1],  # Regularização L1\n",
    "    'reg_lambda': [0, 0.1, 1]  # Regularização L2\n",
    "}\n",
    "\n",
    "# Criar o modelo\n",
    "model = LGBMRegressor(random_state=42)\n",
    "\n",
    "# Aplicar GridSearchCV para buscar os melhores parâmetros\n",
    "grid_search = GridSearchCV(model, param_grid, cv=5, scoring='neg_mean_squared_error', n_jobs=-1, verbose=2)\n",
    "grid_search.fit(X_train, y_train)\n",
    "\n",
    "# Melhor modelo encontrado\n",
    "best_model = grid_search.best_estimator_\n",
    "\n",
    "# Treinar o modelo otimizado\n",
    "best_model.fit(X_train, y_train)\n",
    "\n",
    "# Obter a importância das features\n",
    "feature_importance = best_model.feature_importances_\n",
    "\n",
    "# Criar um DataFrame para visualização\n",
    "importance_df = pd.DataFrame({\n",
    "    'Feature': X.columns,\n",
    "    'Importance': feature_importance\n",
    "}).sort_values(by='Importance', ascending=False)\n",
    "\n",
    "# Plotar a importância das features\n",
    "plt.figure(figsize=(12, 6))\n",
    "plt.barh(importance_df['Feature'], importance_df['Importance'], color='skyblue')\n",
    "plt.xlabel('Importância')\n",
    "plt.ylabel('Feature')\n",
    "plt.title('Importância das Features')\n",
    "plt.gca().invert_yaxis()\n",
    "plt.show()\n",
    "\n",
    "# Fazer previsões\n",
    "y_pred = best_model.predict(X_test)\n",
    "\n",
    "# Calcular métricas de avaliação\n",
    "mse = mean_squared_error(y_test, y_pred)\n",
    "rmse = np.sqrt(mse)\n",
    "mae = mean_absolute_error(y_test, y_pred)\n",
    "r2 = r2_score(y_test, y_pred)\n",
    "\n",
    "# Exibir os resultados\n",
    "print(f\"Melhores parâmetros: {grid_search.best_params_}\")\n",
    "print(f\"MSE: {mse:.4f}\")\n",
    "print(f\"RMSE: {rmse:.4f}\")\n",
    "print(f\"MAE: {mae:.4f}\")\n",
    "print(f\"R²: {r2:.4f}\")\n"
   ]
  },
  {
   "cell_type": "markdown",
   "metadata": {},
   "source": [
    "## CatBoost with Scaled Numerical Features:"
   ]
  },
  {
   "cell_type": "markdown",
   "metadata": {},
   "source": [
    "### Hyperparameter Tunning : RandomizedSearchCV"
   ]
  },
  {
   "cell_type": "markdown",
   "metadata": {},
   "source": [
    "Alguns hiperparâmetros que impactam diretamente o desempenho:\n",
    "\n",
    "- iterations → Número de árvores no modelo (padrão: 1000).\n",
    "- learning_rate → Taxa de aprendizado (padrão: 0.03).\n",
    "- depth → Profundidade das árvores (padrão: 6).\n",
    "- l2_leaf_reg → Regularização L2 para evitar overfitting.\n",
    "- subsample → Proporção de amostras usadas para cada árvore (padrão: 1.0).\n",
    "- colsample_bylevel → Número de features usadas por nível na árvore."
   ]
  },
  {
   "cell_type": "code",
   "execution_count": null,
   "metadata": {},
   "outputs": [],
   "source": [
    "help(CatBoostRegressor())"
   ]
  },
  {
   "cell_type": "code",
   "execution_count": 7,
   "metadata": {},
   "outputs": [
    {
     "name": "stdout",
     "output_type": "stream",
     "text": [
      "Fitting 5 folds for each of 20 candidates, totalling 100 fits\n",
      "Melhores hiperparâmetros: {'subsample': 0.8, 'learning_rate': 0.01, 'l2_leaf_reg': 1, 'iterations': 2000, 'depth': 10, 'colsample_bylevel': 0.6}\n"
     ]
    }
   ],
   "source": [
    "from catboost import CatBoostRegressor\n",
    "from sklearn.model_selection import RandomizedSearchCV\n",
    "\n",
    "# Definição do modelo base\n",
    "cat_model = CatBoostRegressor(verbose=0, random_state=42)\n",
    "\n",
    "# Grid de hiperparâmetros\n",
    "param_grid = {\n",
    "    'iterations': [1000, 2000],  # Número de árvores\n",
    "    'learning_rate': [0.01, 0.05, 0.1, 0.2],  # Taxa de aprendizado\n",
    "    'depth': [4, 6, 8, 10],  # Profundidade da árvore\n",
    "    'l2_leaf_reg': [1, 3, 5],  # Regularização L2\n",
    "    'subsample': [0.6, 0.8, 1.0],  # Proporção de amostras por árvore\n",
    "    'colsample_bylevel': [0.6, 0.8]  # Número de features por nível\n",
    "}\n",
    "\n",
    "# RandomizedSearchCV para encontrar os melhores parâmetros\n",
    "cat_tuned = RandomizedSearchCV(\n",
    "    estimator=cat_model,\n",
    "    param_distributions=param_grid,\n",
    "    n_iter=20,  # Número de combinações testadas\n",
    "    scoring='neg_mean_squared_error',  # Critério de avaliação\n",
    "    cv=5,  # Validação cruzada\n",
    "    n_jobs=-1,\n",
    "    verbose=1\n",
    ")\n",
    "\n",
    "# Treinando o modelo com os hiperparâmetros otimizados\n",
    "cat_tuned.fit(X_train, y_train)\n",
    "\n",
    "# Melhor combinação encontrada\n",
    "print(\"Melhores hiperparâmetros:\", cat_tuned.best_params_)"
   ]
  },
  {
   "cell_type": "markdown",
   "metadata": {},
   "source": [
    "#### Best Estimator Model Validation:"
   ]
  },
  {
   "cell_type": "code",
   "execution_count": null,
   "metadata": {},
   "outputs": [],
   "source": [
    "# Previsões no conjunto de teste\n",
    "y_pred_tuned = cat_tuned.best_estimator_.predict(X_test)\n",
    "\n",
    "# If you want to use this model to make predictions, you can save it using the following code:\n",
    "model = cat_tuned.best_estimator_\n",
    "\n",
    "# Avaliação do modelo otimizado\n",
    "mse, rmse, mae, r2 = evaluate_model(y_test, y_pred_tuned, \"CatBoost Tunado\")"
   ]
  },
  {
   "cell_type": "markdown",
   "metadata": {},
   "source": [
    "### Experiments | MLFlow & Model Save | Run, Registry and Save"
   ]
  },
  {
   "cell_type": "code",
   "execution_count": null,
   "metadata": {},
   "outputs": [],
   "source": [
    "'''\n",
    "Best Parametrs for catboost according to RandomizedSearchCV:\n",
    "{'subsample': 0.8,\n",
    "'learning_rate': 0.01,\n",
    "'l2_leaf_reg': 1,\n",
    "'iterations': 2000,\n",
    "'depth': 10,\n",
    "'colsample_bylevel': 0.6\n",
    "}\n",
    "'''"
   ]
  },
  {
   "cell_type": "markdown",
   "metadata": {},
   "source": [
    "#### Create the Model and Validate"
   ]
  },
  {
   "cell_type": "code",
   "execution_count": null,
   "metadata": {},
   "outputs": [
    {
     "name": "stdout",
     "output_type": "stream",
     "text": [
      "📊 CatBoost Performance:\n",
      "MSE: 43369.26\n",
      "RMSE: 208.25\n",
      "MAE: 60.59\n",
      "R²: 0.1310\n",
      "------------------------------\n"
     ]
    },
    {
     "name": "stderr",
     "output_type": "stream",
     "text": [
      "c:\\Users\\danrl\\anaconda3\\Lib\\site-packages\\sklearn\\metrics\\_regression.py:492: FutureWarning: 'squared' is deprecated in version 1.4 and will be removed in 1.6. To calculate the root mean squared error, use the function'root_mean_squared_error'.\n",
      "  warnings.warn(\n"
     ]
    }
   ],
   "source": [
    "from catboost import CatBoostRegressor\n",
    "\n",
    "# Definir os hiperparâmetros do modelo CatBoost\n",
    "params = {\n",
    "    'subsample': 0.8,\n",
    "    'learning_rate': 0.01,\n",
    "    'l2_leaf_reg': 1,\n",
    "    'iterations': 2000,\n",
    "    'depth': 10,\n",
    "    'colsample_bylevel': 0.6\n",
    "}\n",
    "\n",
    "# Criar e treinar o modelo\n",
    "model = CatBoostRegressor(**params, verbose=0)\n",
    "model.fit(X_train, y_train)\n",
    "\n",
    "# Fazer previsões\n",
    "y_pred = model.predict(X_test)\n",
    "\n",
    "# Calcular métricas de avaliação\n",
    "mse, rmse, mae, r2 = evaluate_model(y_test, y_pred, \"CatBoost\")"
   ]
  },
  {
   "cell_type": "code",
   "execution_count": 103,
   "metadata": {},
   "outputs": [
    {
     "name": "stdout",
     "output_type": "stream",
     "text": [
      "[ 93.4671097  105.63714845  62.06740049 221.08214034  89.04831552]\n"
     ]
    }
   ],
   "source": [
    "# Exibir as primeiras previsões\n",
    "print(y_pred[:5])"
   ]
  },
  {
   "cell_type": "markdown",
   "metadata": {},
   "source": [
    "#### Feature Importance Analysis:"
   ]
  },
  {
   "cell_type": "code",
   "execution_count": 91,
   "metadata": {},
   "outputs": [
    {
     "data": {
      "image/png": "[encoded data removed]",
      "text/plain": [
       "<Figure size 1000x500 with 1 Axes>"
      ]
     },
     "metadata": {},
     "output_type": "display_data"
    }
   ],
   "source": [
    "import matplotlib.pyplot as plt\n",
    "\n",
    "# Pegando a importância das features do modelo treinado\n",
    "feature_importance = model.get_feature_importance()\n",
    "features = X_train.columns\n",
    "\n",
    "# Criar um DataFrame para salvar no MLflow\n",
    "df_importance = pd.DataFrame({'Feature': features, 'Importance': feature_importance})\n",
    "\n",
    "# Criando um gráfico\n",
    "plt.figure(figsize=(10, 5))\n",
    "plt.barh(features, feature_importance)\n",
    "plt.xlabel(\"Importância\")\n",
    "plt.ylabel(\"Features\")\n",
    "plt.title(\"Importância das Variáveis no Modelo CatBoost\")\n",
    "plt.show()"
   ]
  },
  {
   "cell_type": "markdown",
   "metadata": {},
   "source": [
    "#### Save the Model & Feature Importance:"
   ]
  },
  {
   "cell_type": "code",
   "execution_count": 92,
   "metadata": {},
   "outputs": [
    {
     "name": "stdout",
     "output_type": "stream",
     "text": [
      "Model saved successfully as models/catboost_model_20250204_172540.pkl!\n"
     ]
    }
   ],
   "source": [
    "import joblib\n",
    "from datetime import datetime\n",
    "\n",
    "# Get the current timestamp\n",
    "timestamp = datetime.now().strftime(\"%Y%m%d_%H%M%S\")\n",
    "\n",
    "# Save the model to a file with the timestamp\n",
    "model_file_name = f'models/catboost_model_{timestamp}.pkl'\n",
    "joblib.dump(model, model_file_name)\n",
    "\n",
    "#Save the feature importance to a file with the timestamp\n",
    "feature_file_name = f'feature_importance/feature_importance{timestamp}.csv'\n",
    "df_importance.to_csv(feature_file_name, index=False)\n",
    "\n",
    "print(f\"Model saved successfully as {model_file_name}!\")"
   ]
  },
  {
   "cell_type": "markdown",
   "metadata": {},
   "source": [
    "#### Load the model"
   ]
  },
  {
   "cell_type": "code",
   "execution_count": 95,
   "metadata": {},
   "outputs": [
    {
     "name": "stdout",
     "output_type": "stream",
     "text": [
      "<catboost.core.CatBoostRegressor object at 0x000001B1993B4560>\n"
     ]
    }
   ],
   "source": [
    "# Load the Model\n",
    "import joblib\n",
    "\n",
    "model_path = 'models/best_catboost_model.pkl'\n",
    "\n",
    "# Load the model from the file\n",
    "model = joblib.load(model_path)\n",
    "\n",
    "# Verify the model is loaded correctly\n",
    "print(model)"
   ]
  },
  {
   "cell_type": "markdown",
   "metadata": {},
   "source": [
    "### SHAP Analysis"
   ]
  },
  {
   "cell_type": "code",
   "execution_count": 62,
   "metadata": {},
   "outputs": [
    {
     "data": {
      "image/png": "[encoded data removed]",
      "text/plain": [
       "<Figure size 800x710 with 2 Axes>"
      ]
     },
     "metadata": {},
     "output_type": "display_data"
    },
    {
     "data": {
      "text/plain": [
       "<Figure size 640x480 with 0 Axes>"
      ]
     },
     "metadata": {},
     "output_type": "display_data"
    }
   ],
   "source": [
    "import shap\n",
    "shap.initjs()\n",
    "\n",
    "# Criar explicador SHAP\n",
    "explainer = shap.Explainer(model)\n",
    "shap_values = explainer(X_test)\n",
    "\n",
    "# Gerar e salvar gráfico SHAP\n",
    "shap.summary_plot(shap_values, X_test)\n",
    "plt.savefig(\"shap_analysis/shap_summary.png\")"
   ]
  },
  {
   "cell_type": "markdown",
   "metadata": {},
   "source": [
    "#### Como interpretar?\n",
    "- As features são ordenadas pela importância → quanto mais alta no gráfico, mais impacto tem na previsão.\n",
    "- Cada ponto representa um dado de teste, e sua cor indica o valor da variável:\n",
    "- Vermelho = valores altos\n",
    "- Azul = valores baixos\n",
    "\n",
    "- Se os pontos vermelhos estiverem à direita, significa que valores altos dessa feature aumentam o preço previsto.\n",
    "- Se os pontos vermelhos estiverem à esquerda, significa que valores altos dessa feature diminuem o preço previsto."
   ]
  },
  {
   "cell_type": "markdown",
   "metadata": {},
   "source": [
    "### Question:\n",
    "#### O número mínimo de noites e a disponibilidade ao longo do ano interferem no preço?"
   ]
  },
  {
   "cell_type": "code",
   "execution_count": null,
   "metadata": {},
   "outputs": [],
   "source": [
    "help(shap.dependence_plot)"
   ]
  },
  {
   "cell_type": "code",
   "execution_count": 46,
   "metadata": {},
   "outputs": [
    {
     "name": "stdout",
     "output_type": "stream",
     "text": [
      "(9779, 14)\n",
      "Index(['latitude', 'longitude', 'minimo_noites', 'numero_de_reviews',\n",
      "       'calculado_host_listings_count', 'disponibilidade_365',\n",
      "       'bairro_group_Bronx', 'bairro_group_Brooklyn', 'bairro_group_Manhattan',\n",
      "       'bairro_group_Queens', 'bairro_group_Staten Island',\n",
      "       'room_type_Entire home/apt', 'room_type_Private room',\n",
      "       'room_type_Shared room'],\n",
      "      dtype='object')\n"
     ]
    }
   ],
   "source": [
    "# Verifique as primeiras linhas dos shap_values para garantir que estão corretos\n",
    "print(shap_values.shape)  # Deve ser (n_samples, n_features)\n",
    "\n",
    "# Verifique a presença da variável que você deseja analisar em X_test\n",
    "print(X_test.columns)  # Certifique-se de que 'disponibilidade_365' está presente"
   ]
  },
  {
   "cell_type": "code",
   "execution_count": 54,
   "metadata": {},
   "outputs": [],
   "source": [
    "# Incluindo a opção de interação automática\n",
    "#shap.dependence_plot(\"disponibilidade_365\", shap_values[0], X_test, interaction_index=None)"
   ]
  },
  {
   "cell_type": "code",
   "execution_count": 26,
   "metadata": {},
   "outputs": [
    {
     "name": "stdout",
     "output_type": "stream",
     "text": [
      "minimo_noites          0.040419\n",
      "disponibilidade_365    0.084189\n",
      "price                  1.000000\n",
      "Name: price, dtype: float64\n"
     ]
    }
   ],
   "source": [
    "import pandas as pd\n",
    "\n",
    "# Criando um DataFrame com as features e o target\n",
    "df_corr = pd.DataFrame(X_train, columns=['minimo_noites', 'disponibilidade_365'])\n",
    "df_corr['price'] = y_train\n",
    "\n",
    "# Calculando a correlação de Pearson\n",
    "correlation = df_corr.corr()\n",
    "print(correlation['price'])"
   ]
  },
  {
   "cell_type": "markdown",
   "metadata": {},
   "source": [
    "### Other Analysis"
   ]
  },
  {
   "cell_type": "code",
   "execution_count": null,
   "metadata": {},
   "outputs": [],
   "source": [
    "import seaborn as sns\n",
    "\n",
    "# Calcular erros residuais\n",
    "residuals = y_test - y_pred\n",
    "\n",
    "# Criar o gráfico\n",
    "plt.figure(figsize=(8, 5))\n",
    "sns.histplot(residuals, bins=30, kde=True)\n",
    "plt.xlabel(\"Erro Residual\")\n",
    "plt.ylabel(\"Frequência\")\n",
    "plt.title(\"Distribuição dos Erros do Modelo\")\n",
    "\n",
    "# Salvar a imagem\n",
    "plt.savefig(\"analysis/residual_distribution.png\")"
   ]
  },
  {
   "cell_type": "code",
   "execution_count": null,
   "metadata": {},
   "outputs": [],
   "source": [
    "plt.figure(figsize=(8, 5))\n",
    "plt.scatter(y_test, y_pred, alpha=0.5)\n",
    "plt.plot([min(y_test), max(y_test)], [min(y_test), max(y_test)], color=\"red\", linestyle=\"--\")\n",
    "plt.xlabel(\"Valores Reais\")\n",
    "plt.ylabel(\"Previsões\")\n",
    "plt.title(\"Previsões vs. Valores Reais\")\n",
    "\n",
    "# Salvar a imagem\n",
    "plt.savefig(\"analysis/predictions_vs_actuals.png\")"
   ]
  },
  {
   "cell_type": "markdown",
   "metadata": {},
   "source": [
    "# CatBoost With Categorical Features:"
   ]
  },
  {
   "cell_type": "code",
   "execution_count": 4,
   "metadata": {},
   "outputs": [
    {
     "data": {
      "text/html": [
       "<div>\n",
       "<style scoped>\n",
       "    .dataframe tbody tr th:only-of-type {\n",
       "        vertical-align: middle;\n",
       "    }\n",
       "\n",
       "    .dataframe tbody tr th {\n",
       "        vertical-align: top;\n",
       "    }\n",
       "\n",
       "    .dataframe thead th {\n",
       "        text-align: right;\n",
       "    }\n",
       "</style>\n",
       "<table border=\"1\" class=\"dataframe\">\n",
       "  <thead>\n",
       "    <tr style=\"text-align: right;\">\n",
       "      <th></th>\n",
       "      <th>id</th>\n",
       "      <th>nome</th>\n",
       "      <th>host_id</th>\n",
       "      <th>host_name</th>\n",
       "      <th>bairro_group</th>\n",
       "      <th>bairro</th>\n",
       "      <th>latitude</th>\n",
       "      <th>longitude</th>\n",
       "      <th>room_type</th>\n",
       "      <th>minimo_noites</th>\n",
       "      <th>...</th>\n",
       "      <th>min_nights_category</th>\n",
       "      <th>bairro_group_Bronx</th>\n",
       "      <th>bairro_group_Brooklyn</th>\n",
       "      <th>bairro_group_Manhattan</th>\n",
       "      <th>bairro_group_Queens</th>\n",
       "      <th>bairro_group_Staten Island</th>\n",
       "      <th>room_type_Entire home/apt</th>\n",
       "      <th>room_type_Private room</th>\n",
       "      <th>room_type_Shared room</th>\n",
       "      <th>price</th>\n",
       "    </tr>\n",
       "  </thead>\n",
       "  <tbody>\n",
       "    <tr>\n",
       "      <th>0</th>\n",
       "      <td>2595</td>\n",
       "      <td>Skylit Midtown Castle</td>\n",
       "      <td>2845</td>\n",
       "      <td>Jennifer</td>\n",
       "      <td>Manhattan</td>\n",
       "      <td>Midtown</td>\n",
       "      <td>40.75362</td>\n",
       "      <td>-73.98377</td>\n",
       "      <td>Entire home/apt</td>\n",
       "      <td>1</td>\n",
       "      <td>...</td>\n",
       "      <td>0</td>\n",
       "      <td>0.0</td>\n",
       "      <td>0.0</td>\n",
       "      <td>1.0</td>\n",
       "      <td>0.0</td>\n",
       "      <td>0.0</td>\n",
       "      <td>1.0</td>\n",
       "      <td>0.0</td>\n",
       "      <td>0.0</td>\n",
       "      <td>225</td>\n",
       "    </tr>\n",
       "    <tr>\n",
       "      <th>1</th>\n",
       "      <td>3647</td>\n",
       "      <td>THE VILLAGE OF HARLEM....NEW YORK !</td>\n",
       "      <td>4632</td>\n",
       "      <td>Elisabeth</td>\n",
       "      <td>Manhattan</td>\n",
       "      <td>Harlem</td>\n",
       "      <td>40.80902</td>\n",
       "      <td>-73.94190</td>\n",
       "      <td>Private room</td>\n",
       "      <td>3</td>\n",
       "      <td>...</td>\n",
       "      <td>1</td>\n",
       "      <td>0.0</td>\n",
       "      <td>0.0</td>\n",
       "      <td>1.0</td>\n",
       "      <td>0.0</td>\n",
       "      <td>0.0</td>\n",
       "      <td>0.0</td>\n",
       "      <td>1.0</td>\n",
       "      <td>0.0</td>\n",
       "      <td>150</td>\n",
       "    </tr>\n",
       "    <tr>\n",
       "      <th>2</th>\n",
       "      <td>3831</td>\n",
       "      <td>Cozy Entire Floor of Brownstone</td>\n",
       "      <td>4869</td>\n",
       "      <td>LisaRoxanne</td>\n",
       "      <td>Brooklyn</td>\n",
       "      <td>Clinton Hill</td>\n",
       "      <td>40.68514</td>\n",
       "      <td>-73.95976</td>\n",
       "      <td>Entire home/apt</td>\n",
       "      <td>1</td>\n",
       "      <td>...</td>\n",
       "      <td>0</td>\n",
       "      <td>0.0</td>\n",
       "      <td>1.0</td>\n",
       "      <td>0.0</td>\n",
       "      <td>0.0</td>\n",
       "      <td>0.0</td>\n",
       "      <td>1.0</td>\n",
       "      <td>0.0</td>\n",
       "      <td>0.0</td>\n",
       "      <td>89</td>\n",
       "    </tr>\n",
       "    <tr>\n",
       "      <th>3</th>\n",
       "      <td>5022</td>\n",
       "      <td>Entire Apt: Spacious Studio/Loft by central park</td>\n",
       "      <td>7192</td>\n",
       "      <td>Laura</td>\n",
       "      <td>Manhattan</td>\n",
       "      <td>East Harlem</td>\n",
       "      <td>40.79851</td>\n",
       "      <td>-73.94399</td>\n",
       "      <td>Entire home/apt</td>\n",
       "      <td>10</td>\n",
       "      <td>...</td>\n",
       "      <td>2</td>\n",
       "      <td>0.0</td>\n",
       "      <td>0.0</td>\n",
       "      <td>1.0</td>\n",
       "      <td>0.0</td>\n",
       "      <td>0.0</td>\n",
       "      <td>1.0</td>\n",
       "      <td>0.0</td>\n",
       "      <td>0.0</td>\n",
       "      <td>80</td>\n",
       "    </tr>\n",
       "    <tr>\n",
       "      <th>4</th>\n",
       "      <td>5099</td>\n",
       "      <td>Large Cozy 1 BR Apartment In Midtown East</td>\n",
       "      <td>7322</td>\n",
       "      <td>Chris</td>\n",
       "      <td>Manhattan</td>\n",
       "      <td>Murray Hill</td>\n",
       "      <td>40.74767</td>\n",
       "      <td>-73.97500</td>\n",
       "      <td>Entire home/apt</td>\n",
       "      <td>3</td>\n",
       "      <td>...</td>\n",
       "      <td>1</td>\n",
       "      <td>0.0</td>\n",
       "      <td>0.0</td>\n",
       "      <td>1.0</td>\n",
       "      <td>0.0</td>\n",
       "      <td>0.0</td>\n",
       "      <td>1.0</td>\n",
       "      <td>0.0</td>\n",
       "      <td>0.0</td>\n",
       "      <td>200</td>\n",
       "    </tr>\n",
       "  </tbody>\n",
       "</table>\n",
       "<p>5 rows × 56 columns</p>\n",
       "</div>"
      ],
      "text/plain": [
       "     id                                              nome  host_id  \\\n",
       "0  2595                             Skylit Midtown Castle     2845   \n",
       "1  3647               THE VILLAGE OF HARLEM....NEW YORK !     4632   \n",
       "2  3831                   Cozy Entire Floor of Brownstone     4869   \n",
       "3  5022  Entire Apt: Spacious Studio/Loft by central park     7192   \n",
       "4  5099         Large Cozy 1 BR Apartment In Midtown East     7322   \n",
       "\n",
       "     host_name bairro_group        bairro  latitude  longitude  \\\n",
       "0     Jennifer    Manhattan       Midtown  40.75362  -73.98377   \n",
       "1    Elisabeth    Manhattan        Harlem  40.80902  -73.94190   \n",
       "2  LisaRoxanne     Brooklyn  Clinton Hill  40.68514  -73.95976   \n",
       "3        Laura    Manhattan   East Harlem  40.79851  -73.94399   \n",
       "4        Chris    Manhattan   Murray Hill  40.74767  -73.97500   \n",
       "\n",
       "         room_type  minimo_noites  ...  min_nights_category  \\\n",
       "0  Entire home/apt              1  ...                    0   \n",
       "1     Private room              3  ...                    1   \n",
       "2  Entire home/apt              1  ...                    0   \n",
       "3  Entire home/apt             10  ...                    2   \n",
       "4  Entire home/apt              3  ...                    1   \n",
       "\n",
       "  bairro_group_Bronx  bairro_group_Brooklyn  bairro_group_Manhattan  \\\n",
       "0                0.0                    0.0                     1.0   \n",
       "1                0.0                    0.0                     1.0   \n",
       "2                0.0                    1.0                     0.0   \n",
       "3                0.0                    0.0                     1.0   \n",
       "4                0.0                    0.0                     1.0   \n",
       "\n",
       "   bairro_group_Queens  bairro_group_Staten Island room_type_Entire home/apt  \\\n",
       "0                  0.0                         0.0                       1.0   \n",
       "1                  0.0                         0.0                       0.0   \n",
       "2                  0.0                         0.0                       1.0   \n",
       "3                  0.0                         0.0                       1.0   \n",
       "4                  0.0                         0.0                       1.0   \n",
       "\n",
       "   room_type_Private room  room_type_Shared room  price  \n",
       "0                     0.0                    0.0    225  \n",
       "1                     1.0                    0.0    150  \n",
       "2                     0.0                    0.0     89  \n",
       "3                     0.0                    0.0     80  \n",
       "4                     0.0                    0.0    200  \n",
       "\n",
       "[5 rows x 56 columns]"
      ]
     },
     "execution_count": 4,
     "metadata": {},
     "output_type": "execute_result"
    }
   ],
   "source": [
    "data_ready = pd.read_csv('data/data_features_ready.csv')\n",
    "data_ready.head()"
   ]
  },
  {
   "cell_type": "code",
   "execution_count": 70,
   "metadata": {},
   "outputs": [
    {
     "name": "stdout",
     "output_type": "stream",
     "text": [
      "<class 'pandas.core.frame.DataFrame'>\n",
      "RangeIndex: 48894 entries, 0 to 48893\n",
      "Data columns (total 56 columns):\n",
      " #   Column                         Non-Null Count  Dtype  \n",
      "---  ------                         --------------  -----  \n",
      " 0   id                             48894 non-null  int64  \n",
      " 1   nome                           48894 non-null  object \n",
      " 2   host_id                        48894 non-null  int64  \n",
      " 3   host_name                      48894 non-null  object \n",
      " 4   bairro_group                   48894 non-null  object \n",
      " 5   bairro                         48894 non-null  object \n",
      " 6   latitude                       48894 non-null  float64\n",
      " 7   longitude                      48894 non-null  float64\n",
      " 8   room_type                      48894 non-null  object \n",
      " 9   minimo_noites                  48894 non-null  int64  \n",
      " 10  numero_de_reviews              48894 non-null  int64  \n",
      " 11  ultima_review                  38842 non-null  object \n",
      " 12  reviews_por_mes                48894 non-null  float64\n",
      " 13  calculado_host_listings_count  48894 non-null  int64  \n",
      " 14  disponibilidade_365            48894 non-null  int64  \n",
      " 15  tempo_desde_ultimo_review      48894 non-null  float64\n",
      " 16  trimestre_review               48894 non-null  object \n",
      " 17  nome_tfidf_mean                48894 non-null  float64\n",
      " 18  w2v_pca_1                      48894 non-null  float64\n",
      " 19  w2v_pca_2                      48894 non-null  float64\n",
      " 20  w2v_pca_3                      48894 non-null  float64\n",
      " 21  w2v_pca_4                      48894 non-null  float64\n",
      " 22  w2v_pca_5                      48894 non-null  float64\n",
      " 23  nome_sentiment                 48894 non-null  float64\n",
      " 24  location_cluster               48894 non-null  int64  \n",
      " 25  dist_manhattan_center          48894 non-null  float64\n",
      " 26  dist_central_park              48894 non-null  float64\n",
      " 27  dist_times_square              48894 non-null  float64\n",
      " 28  dist_wall_street               48894 non-null  float64\n",
      " 29  dist_brooklyn_bridge           48894 non-null  float64\n",
      " 30  dist_empire_state_building     48894 non-null  float64\n",
      " 31  dist_statue_of_liberty         48894 non-null  float64\n",
      " 32  dist_jfk_airport               48894 non-null  float64\n",
      " 33  dist_la_guardia_airport        48894 non-null  float64\n",
      " 34  dist_yankee_stadium            48894 non-null  float64\n",
      " 35  dist_metropolitan_museum       48894 non-null  float64\n",
      " 36  dist_staten_island_greenbelt   48894 non-null  float64\n",
      " 37  dist_ubs_arena                 48894 non-null  float64\n",
      " 38  dist_coney_island_beach        48894 non-null  float64\n",
      " 39  dist_bronx_zoo                 48894 non-null  float64\n",
      " 40  h3_index                       48894 non-null  object \n",
      " 41  h3_numeric                     48894 non-null  int64  \n",
      " 42  preco_medio_bairro             48894 non-null  float64\n",
      " 43  Entire home/apt                48894 non-null  float64\n",
      " 44  Private room                   48894 non-null  float64\n",
      " 45  Shared room                    48894 non-null  float64\n",
      " 46  min_nights_category            48894 non-null  int64  \n",
      " 47  bairro_group_Bronx             48894 non-null  float64\n",
      " 48  bairro_group_Brooklyn          48894 non-null  float64\n",
      " 49  bairro_group_Manhattan         48894 non-null  float64\n",
      " 50  bairro_group_Queens            48894 non-null  float64\n",
      " 51  bairro_group_Staten Island     48894 non-null  float64\n",
      " 52  room_type_Entire home/apt      48894 non-null  float64\n",
      " 53  room_type_Private room         48894 non-null  float64\n",
      " 54  room_type_Shared room          48894 non-null  float64\n",
      " 55  price                          48894 non-null  int64  \n",
      "dtypes: float64(38), int64(10), object(8)\n",
      "memory usage: 20.9+ MB\n"
     ]
    }
   ],
   "source": [
    "data_ready.info()"
   ]
  },
  {
   "cell_type": "code",
   "execution_count": 5,
   "metadata": {},
   "outputs": [],
   "source": [
    "#1 features_to_keep = [\"bairro_group\", \"bairro\",  \"room_type\", \"minimo_noites\", \"numero_de_reviews\", \"calculado_host_listings_count\", \"disponibilidade_365\"]\n",
    "#2 features_to_keep = [\"latitude\", \"longitude\", \"bairro_group\", \"bairro\",  \"room_type\", \"minimo_noites\", \"numero_de_reviews\", \"reviews_por_mes\", \"calculado_host_listings_count\", \"disponibilidade_365\", \"dist_manhattan_center\"]\n",
    "#3 features_to_keep = [\"latitude\", \"longitude\", \"bairro_group\", \"bairro\",  \"room_type\", \"minimo_noites\", \"numero_de_reviews\", \"reviews_por_mes\", \"calculado_host_listings_count\", \"disponibilidade_365\", \"location_cluster\", \"dist_manhattan_center\", \"h3_numeric\", \"preco_medio_bairro\", \"Entire home/apt\", \"Private room\", \"Shared room\", \"min_nights_category\", \"ultima_review_ano\"]\n",
    "#4* features_to_keep = [\"latitude\", \"longitude\", \"bairro_group\", \"bairro\",  \"room_type\", \"minimo_noites\", \"numero_de_reviews\", \"reviews_por_mes\", \"calculado_host_listings_count\", \"disponibilidade_365\", \"dist_manhattan_center\", \"preco_medio_bairro\", \"Entire home/apt\", \"Private room\", \"Shared room\", \"min_nights_category\", \"ultima_review_ano\"]\n",
    "#5 features_to_keep = [\"latitude\", \"longitude\", \"bairro_group\", \"bairro\",  \"room_type\", \"minimo_noites\", \"numero_de_reviews\", \"reviews_por_mes\", \"calculado_host_listings_count\", \"disponibilidade_365\", \"dist_manhattan_center\", \"preco_medio_bairro\", \"min_nights_category\", \"ultima_review_ano\"]\n",
    "#6 features_to_keep = [\"latitude\", \"longitude\", \"bairro\",  \"room_type\", \"minimo_noites\", \"numero_de_reviews\", \"reviews_por_mes\", \"calculado_host_listings_count\", \"disponibilidade_365\", \"dist_manhattan_center\", \"preco_medio_bairro\", \"min_nights_category\", \"ultima_review_ano\"]\n",
    "#7* features_to_keep = [\"latitude\", \"longitude\", \"bairro\",  \"room_type\", \"minimo_noites\", \"numero_de_reviews\", \"reviews_por_mes\", \"calculado_host_listings_count\", \"disponibilidade_365\", \"dist_manhattan_center\", \"dist_jfk_airport\", \"preco_medio_bairro\", \"min_nights_category\", \"ultima_review_ano\"]\n",
    "#8** features_to_keep = [\"latitude\", \"longitude\", \"bairro\",  \"room_type\", \"minimo_noites\", \"numero_de_reviews\", \"reviews_por_mes\", \"calculado_host_listings_count\", \"disponibilidade_365\", \"dist_manhattan_center\", \"dist_wall_street\", \"dist_jfk_airport\", \"dist_yankee_stadium\", \"preco_medio_bairro\", \"min_nights_category\", \"ultima_review_ano\"]\n",
    "#9** -- features_to_keep = [\"latitude\", \"longitude\", \"bairro\",  \"room_type\", \"minimo_noites\", \"numero_de_reviews\", \"reviews_por_mes\", \"calculado_host_listings_count\", \"disponibilidade_365\", \"dist_manhattan_center\", \"dist_central_park\", \"dist_wall_street\", \"dist_statue_of_liberty\", \"dist_jfk_airport\", \"dist_la_guardia_airport\", \"dist_yankee_stadium\", \"dist_staten_island_greenbelt\", \"dist_ubs_arena\", \"dist_coney_island_beach\", \"dist_bronx_zoo\", \"preco_medio_bairro\", \"min_nights_category\", \"ultima_review_ano\"]\n",
    "\n",
    "#10 \n",
    "features_to_keep = [\"latitude\", \"longitude\", \"bairro\",  \"room_type\", \"minimo_noites\", \"numero_de_reviews\", \"reviews_por_mes\", \"calculado_host_listings_count\", \"disponibilidade_365\", \"tempo_desde_ultimo_review\", \"trimestre_review\", \"nome_sentiment\",\"dist_manhattan_center\", \"dist_central_park\", \"dist_wall_street\", \"dist_statue_of_liberty\", \"dist_jfk_airport\", \"dist_la_guardia_airport\", \"dist_ubs_arena\", \"dist_coney_island_beach\", \"preco_medio_bairro\", \"min_nights_category\"]\n",
    "\n",
    "X = data_ready[features_to_keep]  # Features\n",
    "y = data_ready['price']  # Target"
   ]
  },
  {
   "cell_type": "markdown",
   "metadata": {},
   "source": [
    "## Single Fold:"
   ]
  },
  {
   "cell_type": "code",
   "execution_count": 9,
   "metadata": {},
   "outputs": [
    {
     "name": "stdout",
     "output_type": "stream",
     "text": [
      "📊 CatBoost Performance:\n",
      "MSE: 5204.72\n",
      "RMSE: 72.14\n",
      "MAE: 44.80\n",
      "R²: 0.5156\n",
      "------------------------------\n"
     ]
    },
    {
     "name": "stderr",
     "output_type": "stream",
     "text": [
      "c:\\Users\\danrl\\anaconda3\\Lib\\site-packages\\sklearn\\metrics\\_regression.py:492: FutureWarning: 'squared' is deprecated in version 1.4 and will be removed in 1.6. To calculate the root mean squared error, use the function'root_mean_squared_error'.\n",
      "  warnings.warn(\n"
     ]
    }
   ],
   "source": [
    "from catboost import CatBoostRegressor\n",
    "\n",
    "nome_do_experimento = \"Price_Prediction_Housing\"\n",
    "\n",
    "# Plit Train-Test\n",
    "X_train, X_test, y_train, y_test = train_test_split(X, y, test_size=0.2, random_state=42)\n",
    "features_to_keep\n",
    "\n",
    "# Definir os hiperparâmetros do modelo CatBoost\n",
    "params = {\n",
    "    'subsample': 0.8,\n",
    "    'learning_rate': 0.01,\n",
    "    'l2_leaf_reg': 1,\n",
    "    'iterations': 2000,\n",
    "    'depth': 10,\n",
    "    'colsample_bylevel': 0.6\n",
    "}\n",
    "\n",
    "# Declarando quais features são categóricas para uso no CatBoost.\n",
    "categorical_features = data_ready[features_to_keep].select_dtypes(include=['object']).columns\n",
    "categorical_features = categorical_features.tolist()\n",
    "\n",
    "X_train[categorical_features] = X_train[categorical_features].astype(str)\n",
    "X_test[categorical_features] = X_test[categorical_features].astype(str)\n",
    "\n",
    "# Criar e treinar o modelo\n",
    "model = CatBoostRegressor(**params, cat_features=categorical_features, verbose=0)\n",
    "\n",
    "#model = CatBoostRegressor(n_estimators=100, learning_rate=0.1, cat_features=categorical_features, verbose=0, random_state=42)\n",
    "\n",
    "model.fit(X_train, y_train)\n",
    "\n",
    "# Fazer previsões\n",
    "y_pred = model.predict(X_test)\n",
    "\n",
    "# Calcular métricas de avaliação\n",
    "mse, rmse, mae, r2 = evaluate_model(y_test, y_pred, \"CatBoost\")"
   ]
  },
  {
   "cell_type": "markdown",
   "metadata": {},
   "source": [
    "## CatBoost - Cross-Validation"
   ]
  },
  {
   "cell_type": "code",
   "execution_count": 62,
   "metadata": {},
   "outputs": [
    {
     "name": "stderr",
     "output_type": "stream",
     "text": [
      "C:\\Users\\danrl\\AppData\\Local\\Temp\\ipykernel_12772\\3894737394.py:19: SettingWithCopyWarning: \n",
      "A value is trying to be set on a copy of a slice from a DataFrame.\n",
      "Try using .loc[row_indexer,col_indexer] = value instead\n",
      "\n",
      "See the caveats in the documentation: https://pandas.pydata.org/pandas-docs/stable/user_guide/indexing.html#returning-a-view-versus-a-copy\n",
      "  X[categorical_features] = X[categorical_features].astype(str)\n"
     ]
    },
    {
     "name": "stdout",
     "output_type": "stream",
     "text": [
      "📊 Cross-Validation Results (5-Fold):\n",
      "🔹 MSE: 5381.98 ± 116.40\n",
      "🔹 RMSE: 73.36 ± 0.79\n",
      "🔹 MAE: 45.59 ± 0.57\n",
      "🔹 R²: 0.5202 ± 0.0080\n"
     ]
    }
   ],
   "source": [
    "from sklearn.model_selection import cross_val_score, KFold\n",
    "from catboost import CatBoostRegressor\n",
    "import numpy as np\n",
    "\n",
    "# Declarando quais features são categóricas para uso no CatBoost.\n",
    "categorical_features = X.select_dtypes(include=['object']).columns.tolist()\n",
    "X[categorical_features] = X[categorical_features].astype(str)\n",
    "\n",
    "# Criar modelo CatBoost\n",
    "model = CatBoostRegressor(**params, cat_features=categorical_features)\n",
    "\n",
    "# Definir Cross Validation (K=5)\n",
    "kf = KFold(n_splits=5, shuffle=True, random_state=42)\n",
    "\n",
    "# Calcular scores para cada métrica\n",
    "mse_scores = -cross_val_score(model, X, y, cv=kf, scoring=\"neg_mean_squared_error\")\n",
    "rmse_scores = np.sqrt(mse_scores)\n",
    "mae_scores = -cross_val_score(model, X, y, cv=kf, scoring=\"neg_mean_absolute_error\")\n",
    "r2_scores = cross_val_score(model, X, y, cv=kf, scoring=\"r2\")\n",
    "\n",
    "# Exibir resultados médios\n",
    "print(f\"📊 Cross-Validation Results (5-Fold):\")\n",
    "print(f\"🔹 MSE: {mse_scores.mean():.2f} ± {mse_scores.std():.2f}\")\n",
    "print(f\"🔹 RMSE: {rmse_scores.mean():.2f} ± {rmse_scores.std():.2f}\")\n",
    "print(f\"🔹 MAE: {mae_scores.mean():.2f} ± {mae_scores.std():.2f}\")\n",
    "print(f\"🔹 R²: {r2_scores.mean():.4f} ± {r2_scores.std():.4f}\")"
   ]
  },
  {
   "cell_type": "markdown",
   "metadata": {},
   "source": [
    "## RandomizedSearchCV + Cross-Validation"
   ]
  },
  {
   "cell_type": "code",
   "execution_count": null,
   "metadata": {},
   "outputs": [],
   "source": [
    "from catboost import CatBoostRegressor\n",
    "from sklearn.model_selection import RandomizedSearchCV\n",
    "\n",
    "# Declarando quais features são categóricas para uso no CatBoost.\n",
    "categorical_features = data_ready[features_to_keep].select_dtypes(include=['object']).columns\n",
    "categorical_features = categorical_features.tolist()\n",
    "\n",
    "X_train[categorical_features] = X_train[categorical_features].astype(str)\n",
    "X_test[categorical_features] = X_test[categorical_features].astype(str)\n",
    "\n",
    "# Definição do modelo base - ! Precisa declarar quais features são categóricas\n",
    "cat_model = CatBoostRegressor(cat_features=categorical_features, verbose=0, random_state=42)\n",
    "\n",
    "# Grid de hiperparâmetros\n",
    "param_grid = {\n",
    "    'iterations': [500, 1000, 2000, 3000, 5000],  # Aumentado o número de árvores\n",
    "    'learning_rate': [0.005, 0.01, 0.05, 0.1, 0.2],  # Taxa de aprendizado expandida\n",
    "    'depth': [4, 6, 8, 10, 12],  # Adicionadas profundidades maiores\n",
    "    'l2_leaf_reg': [1, 3, 5, 10],  # Regularização mais ampla\n",
    "    'subsample': [0.5, 0.6, 0.8, 1.0],  # Ajuste fino da amostragem\n",
    "    'colsample_bylevel': [0.5, 0.6, 0.8, 1.0],  # Mais valores para testar\n",
    "    'bagging_temperature': [0, 0.5, 1, 2],  # Controle da aleatoriedade na amostragem\n",
    "    'grow_policy': ['SymmetricTree', 'Depthwise', 'Lossguide'],  # Estratégia de crescimento das árvores\n",
    "    'boosting_type': ['Ordered', 'Plain']  # Diferentes estratégias de boosting\n",
    "}\n",
    "\n",
    "# RandomizedSearchCV para encontrar os melhores parâmetros\n",
    "cat_tuned = RandomizedSearchCV(\n",
    "    estimator=cat_model,\n",
    "    param_distributions=param_grid,\n",
    "    n_iter=1,  # Aumentei o número de combinações testadas\n",
    "    scoring='neg_mean_squared_error',  # Critério de avaliação\n",
    "    cv=2,  # Validação cruzada\n",
    "    n_jobs=-1,\n",
    "    verbose=1\n",
    ")\n",
    "\n",
    "# Treinando o modelo com os hiperparâmetros otimizados\n",
    "cat_tuned.fit(X_train, y_train)\n",
    "\n",
    "# Melhor combinação encontrada\n",
    "print(\"Melhores hiperparâmetros:\", cat_tuned.best_params_)\n",
    "\n",
    "# Previsões no conjunto de teste\n",
    "y_pred_tuned = cat_tuned.best_estimator_.predict(X_test)\n",
    "\n",
    "# If you want to use this model to make predictions, you can save it using the following code:\n",
    "model = cat_tuned.best_estimator_\n",
    "\n",
    "# Avaliação do modelo otimizado\n",
    "mse, rmse, mae, r2 = evaluate_model(y_test, y_pred_tuned, \"CatBoost Tunado\")"
   ]
  },
  {
   "cell_type": "markdown",
   "metadata": {},
   "source": [
    "# Model por Grupos de Bairros"
   ]
  },
  {
   "cell_type": "code",
   "execution_count": 14,
   "metadata": {},
   "outputs": [],
   "source": [
    "data_ready_manhattan = data_ready[data_ready[\"bairro_group\"]==\"Manhattan\"]\n",
    "data_ready_brooklyn = data_ready[data_ready[\"bairro_group\"]==\"Brooklyn\"]\n",
    "data_ready_bronx = data_ready[data_ready[\"bairro_group\"]==\"Bronx\"]\n",
    "data_ready_queens = data_ready[data_ready[\"bairro_group\"]==\"Queens\"]\n",
    "data_ready_staten_island = data_ready[data_ready[\"bairro_group\"]==\"Staten Island\"]"
   ]
  },
  {
   "cell_type": "markdown",
   "metadata": {},
   "source": [
    "## Manhattan Model"
   ]
  },
  {
   "cell_type": "code",
   "execution_count": 21,
   "metadata": {},
   "outputs": [
    {
     "name": "stdout",
     "output_type": "stream",
     "text": [
      "21661\n"
     ]
    },
    {
     "data": {
      "text/html": [
       "<div>\n",
       "<style scoped>\n",
       "    .dataframe tbody tr th:only-of-type {\n",
       "        vertical-align: middle;\n",
       "    }\n",
       "\n",
       "    .dataframe tbody tr th {\n",
       "        vertical-align: top;\n",
       "    }\n",
       "\n",
       "    .dataframe thead th {\n",
       "        text-align: right;\n",
       "    }\n",
       "</style>\n",
       "<table border=\"1\" class=\"dataframe\">\n",
       "  <thead>\n",
       "    <tr style=\"text-align: right;\">\n",
       "      <th></th>\n",
       "      <th>id</th>\n",
       "      <th>nome</th>\n",
       "      <th>host_id</th>\n",
       "      <th>host_name</th>\n",
       "      <th>bairro_group</th>\n",
       "      <th>bairro</th>\n",
       "      <th>latitude</th>\n",
       "      <th>longitude</th>\n",
       "      <th>room_type</th>\n",
       "      <th>minimo_noites</th>\n",
       "      <th>...</th>\n",
       "      <th>min_nights_category</th>\n",
       "      <th>bairro_group_Bronx</th>\n",
       "      <th>bairro_group_Brooklyn</th>\n",
       "      <th>bairro_group_Manhattan</th>\n",
       "      <th>bairro_group_Queens</th>\n",
       "      <th>bairro_group_Staten Island</th>\n",
       "      <th>room_type_Entire home/apt</th>\n",
       "      <th>room_type_Private room</th>\n",
       "      <th>room_type_Shared room</th>\n",
       "      <th>price</th>\n",
       "    </tr>\n",
       "  </thead>\n",
       "  <tbody>\n",
       "    <tr>\n",
       "      <th>0</th>\n",
       "      <td>2595</td>\n",
       "      <td>Skylit Midtown Castle</td>\n",
       "      <td>2845</td>\n",
       "      <td>Jennifer</td>\n",
       "      <td>Manhattan</td>\n",
       "      <td>Midtown</td>\n",
       "      <td>40.75362</td>\n",
       "      <td>-73.98377</td>\n",
       "      <td>Entire home/apt</td>\n",
       "      <td>1</td>\n",
       "      <td>...</td>\n",
       "      <td>0</td>\n",
       "      <td>0.0</td>\n",
       "      <td>0.0</td>\n",
       "      <td>1.0</td>\n",
       "      <td>0.0</td>\n",
       "      <td>0.0</td>\n",
       "      <td>1.0</td>\n",
       "      <td>0.0</td>\n",
       "      <td>0.0</td>\n",
       "      <td>225</td>\n",
       "    </tr>\n",
       "    <tr>\n",
       "      <th>1</th>\n",
       "      <td>3647</td>\n",
       "      <td>THE VILLAGE OF HARLEM....NEW YORK !</td>\n",
       "      <td>4632</td>\n",
       "      <td>Elisabeth</td>\n",
       "      <td>Manhattan</td>\n",
       "      <td>Harlem</td>\n",
       "      <td>40.80902</td>\n",
       "      <td>-73.94190</td>\n",
       "      <td>Private room</td>\n",
       "      <td>3</td>\n",
       "      <td>...</td>\n",
       "      <td>1</td>\n",
       "      <td>0.0</td>\n",
       "      <td>0.0</td>\n",
       "      <td>1.0</td>\n",
       "      <td>0.0</td>\n",
       "      <td>0.0</td>\n",
       "      <td>0.0</td>\n",
       "      <td>1.0</td>\n",
       "      <td>0.0</td>\n",
       "      <td>150</td>\n",
       "    </tr>\n",
       "    <tr>\n",
       "      <th>3</th>\n",
       "      <td>5022</td>\n",
       "      <td>Entire Apt: Spacious Studio/Loft by central park</td>\n",
       "      <td>7192</td>\n",
       "      <td>Laura</td>\n",
       "      <td>Manhattan</td>\n",
       "      <td>East Harlem</td>\n",
       "      <td>40.79851</td>\n",
       "      <td>-73.94399</td>\n",
       "      <td>Entire home/apt</td>\n",
       "      <td>10</td>\n",
       "      <td>...</td>\n",
       "      <td>2</td>\n",
       "      <td>0.0</td>\n",
       "      <td>0.0</td>\n",
       "      <td>1.0</td>\n",
       "      <td>0.0</td>\n",
       "      <td>0.0</td>\n",
       "      <td>1.0</td>\n",
       "      <td>0.0</td>\n",
       "      <td>0.0</td>\n",
       "      <td>80</td>\n",
       "    </tr>\n",
       "    <tr>\n",
       "      <th>4</th>\n",
       "      <td>5099</td>\n",
       "      <td>Large Cozy 1 BR Apartment In Midtown East</td>\n",
       "      <td>7322</td>\n",
       "      <td>Chris</td>\n",
       "      <td>Manhattan</td>\n",
       "      <td>Murray Hill</td>\n",
       "      <td>40.74767</td>\n",
       "      <td>-73.97500</td>\n",
       "      <td>Entire home/apt</td>\n",
       "      <td>3</td>\n",
       "      <td>...</td>\n",
       "      <td>1</td>\n",
       "      <td>0.0</td>\n",
       "      <td>0.0</td>\n",
       "      <td>1.0</td>\n",
       "      <td>0.0</td>\n",
       "      <td>0.0</td>\n",
       "      <td>1.0</td>\n",
       "      <td>0.0</td>\n",
       "      <td>0.0</td>\n",
       "      <td>200</td>\n",
       "    </tr>\n",
       "    <tr>\n",
       "      <th>6</th>\n",
       "      <td>5178</td>\n",
       "      <td>Large Furnished Room Near B'way</td>\n",
       "      <td>8967</td>\n",
       "      <td>Shunichi</td>\n",
       "      <td>Manhattan</td>\n",
       "      <td>Hell's Kitchen</td>\n",
       "      <td>40.76489</td>\n",
       "      <td>-73.98493</td>\n",
       "      <td>Private room</td>\n",
       "      <td>2</td>\n",
       "      <td>...</td>\n",
       "      <td>1</td>\n",
       "      <td>0.0</td>\n",
       "      <td>0.0</td>\n",
       "      <td>1.0</td>\n",
       "      <td>0.0</td>\n",
       "      <td>0.0</td>\n",
       "      <td>0.0</td>\n",
       "      <td>1.0</td>\n",
       "      <td>0.0</td>\n",
       "      <td>79</td>\n",
       "    </tr>\n",
       "  </tbody>\n",
       "</table>\n",
       "<p>5 rows × 56 columns</p>\n",
       "</div>"
      ],
      "text/plain": [
       "     id                                              nome  host_id  host_name  \\\n",
       "0  2595                             Skylit Midtown Castle     2845   Jennifer   \n",
       "1  3647               THE VILLAGE OF HARLEM....NEW YORK !     4632  Elisabeth   \n",
       "3  5022  Entire Apt: Spacious Studio/Loft by central park     7192      Laura   \n",
       "4  5099         Large Cozy 1 BR Apartment In Midtown East     7322      Chris   \n",
       "6  5178                  Large Furnished Room Near B'way      8967   Shunichi   \n",
       "\n",
       "  bairro_group          bairro  latitude  longitude        room_type  \\\n",
       "0    Manhattan         Midtown  40.75362  -73.98377  Entire home/apt   \n",
       "1    Manhattan          Harlem  40.80902  -73.94190     Private room   \n",
       "3    Manhattan     East Harlem  40.79851  -73.94399  Entire home/apt   \n",
       "4    Manhattan     Murray Hill  40.74767  -73.97500  Entire home/apt   \n",
       "6    Manhattan  Hell's Kitchen  40.76489  -73.98493     Private room   \n",
       "\n",
       "   minimo_noites  ...  min_nights_category bairro_group_Bronx  \\\n",
       "0              1  ...                    0                0.0   \n",
       "1              3  ...                    1                0.0   \n",
       "3             10  ...                    2                0.0   \n",
       "4              3  ...                    1                0.0   \n",
       "6              2  ...                    1                0.0   \n",
       "\n",
       "   bairro_group_Brooklyn  bairro_group_Manhattan  bairro_group_Queens  \\\n",
       "0                    0.0                     1.0                  0.0   \n",
       "1                    0.0                     1.0                  0.0   \n",
       "3                    0.0                     1.0                  0.0   \n",
       "4                    0.0                     1.0                  0.0   \n",
       "6                    0.0                     1.0                  0.0   \n",
       "\n",
       "   bairro_group_Staten Island room_type_Entire home/apt  \\\n",
       "0                         0.0                       1.0   \n",
       "1                         0.0                       0.0   \n",
       "3                         0.0                       1.0   \n",
       "4                         0.0                       1.0   \n",
       "6                         0.0                       0.0   \n",
       "\n",
       "   room_type_Private room  room_type_Shared room  price  \n",
       "0                     0.0                    0.0    225  \n",
       "1                     1.0                    0.0    150  \n",
       "3                     0.0                    0.0     80  \n",
       "4                     0.0                    0.0    200  \n",
       "6                     1.0                    0.0     79  \n",
       "\n",
       "[5 rows x 56 columns]"
      ]
     },
     "execution_count": 21,
     "metadata": {},
     "output_type": "execute_result"
    }
   ],
   "source": [
    "print(len(data_ready_manhattan))\n",
    "data_ready_manhattan.head()"
   ]
  },
  {
   "cell_type": "code",
   "execution_count": 15,
   "metadata": {},
   "outputs": [],
   "source": [
    "X_manhattan = data_ready_manhattan[features_to_keep]  # Features\n",
    "y_manhattan = data_ready_manhattan['price']  # Target"
   ]
  },
  {
   "cell_type": "code",
   "execution_count": 22,
   "metadata": {},
   "outputs": [
    {
     "name": "stdout",
     "output_type": "stream",
     "text": [
      "📊 CatBoost Performance:\n",
      "MSE: 7224.74\n",
      "RMSE: 85.00\n",
      "MAE: 56.50\n",
      "R²: 0.4721\n",
      "------------------------------\n"
     ]
    },
    {
     "name": "stderr",
     "output_type": "stream",
     "text": [
      "c:\\Users\\danrl\\anaconda3\\Lib\\site-packages\\sklearn\\metrics\\_regression.py:492: FutureWarning: 'squared' is deprecated in version 1.4 and will be removed in 1.6. To calculate the root mean squared error, use the function'root_mean_squared_error'.\n",
      "  warnings.warn(\n"
     ]
    }
   ],
   "source": [
    "from catboost import CatBoostRegressor\n",
    "\n",
    "nome_do_experimento = \"Price_Prediction_Housing_by_Neighborhood_Group\"\n",
    "\n",
    "# Plit Train-Test Manhattan Data\n",
    "X_train, X_test, y_train, y_test = train_test_split(X_manhattan, y_manhattan, test_size=0.2, random_state=42)\n",
    "features_to_keep\n",
    "\n",
    "# Definir os hiperparâmetros do modelo CatBoost\n",
    "params = {\n",
    "    'subsample': 0.8,\n",
    "    'learning_rate': 0.01,\n",
    "    'l2_leaf_reg': 1,\n",
    "    'iterations': 2000,\n",
    "    'depth': 10,\n",
    "    'colsample_bylevel': 0.6\n",
    "}\n",
    "\n",
    "# Declarando quais features são categóricas para uso no CatBoost.\n",
    "categorical_features = data_ready_manhattan[features_to_keep].select_dtypes(include=['object']).columns\n",
    "categorical_features = categorical_features.tolist()\n",
    "\n",
    "X_train[categorical_features] = X_train[categorical_features].astype(str)\n",
    "X_test[categorical_features] = X_test[categorical_features].astype(str)\n",
    "\n",
    "# Criar e treinar o modelo\n",
    "model = CatBoostRegressor(**params, cat_features=categorical_features, verbose=0)\n",
    "\n",
    "#model = CatBoostRegressor(n_estimators=100, learning_rate=0.1, cat_features=categorical_features, verbose=0, random_state=42)\n",
    "\n",
    "model.fit(X_train, y_train)\n",
    "\n",
    "# Fazer previsões\n",
    "y_pred = model.predict(X_test)\n",
    "\n",
    "# Calcular métricas de avaliação\n",
    "mse, rmse, mae, r2 = evaluate_model(y_test, y_pred, \"CatBoost\")"
   ]
  },
  {
   "cell_type": "markdown",
   "metadata": {},
   "source": [
    "# Feature Importance"
   ]
  },
  {
   "cell_type": "code",
   "execution_count": null,
   "metadata": {},
   "outputs": [],
   "source": [
    "# Pegando a importância das features do modelo treinado\n",
    "feature_importance = model.get_feature_importance()\n",
    "features = X_train.columns\n",
    "\n",
    "# Criar um DataFrame para salvar no MLflow\n",
    "df_importance = pd.DataFrame({'Feature': features, 'Importance': feature_importance})\n",
    "\n",
    "# Ordenando as features pela importância\n",
    "df_importance = df_importance.sort_values(by=\"Importance\", ascending=True)\n",
    "\n",
    "# Criando o gráfico aprimorado\n",
    "plt.figure(figsize=(12, 6), dpi=100)\n",
    "plt.barh(df_importance['Feature'], df_importance['Importance'], color='royalblue', edgecolor='black')\n",
    "\n",
    "# Adicionando rótulos de valores no final de cada barra\n",
    "for index, value in enumerate(df_importance['Importance']):\n",
    "    plt.text(value + max(df_importance['Importance']) * 0.01, index, f'{value:.2f}', va='center', fontsize=10)\n",
    "\n",
    "# Melhorias no layout\n",
    "plt.xlabel(\"Importância\", fontsize=14, fontweight='light')\n",
    "plt.ylabel(\"Features\", fontsize=14, fontweight='light')\n",
    "plt.title(\"Importância das Variáveis no Modelo CatBoost\", fontsize=16, fontweight='light')\n",
    "plt.grid(axis='x', linestyle='--', alpha=0.7)\n",
    "plt.xticks(fontsize=12)\n",
    "plt.yticks(fontsize=12)\n",
    "plt.gca().spines['top'].set_visible(False)\n",
    "plt.gca().spines['right'].set_visible(False)\n",
    "\n",
    "# Exibir o gráfico\n",
    "plt.show()"
   ]
  },
  {
   "cell_type": "markdown",
   "metadata": {},
   "source": [
    "# Save The ModeL and Features"
   ]
  },
  {
   "cell_type": "code",
   "execution_count": 43,
   "metadata": {},
   "outputs": [
    {
     "name": "stdout",
     "output_type": "stream",
     "text": [
      "Model saved successfully as models/catboost_model_20250208_024056.pkl!\n"
     ]
    },
    {
     "data": {
      "text/plain": [
       "<Figure size 640x480 with 0 Axes>"
      ]
     },
     "metadata": {},
     "output_type": "display_data"
    }
   ],
   "source": [
    "import joblib\n",
    "from datetime import datetime\n",
    "\n",
    "# Get the current timestamp\n",
    "timestamp = datetime.now().strftime(\"%Y%m%d_%H%M%S\")\n",
    "\n",
    "# Save the model to a file with the timestamp\n",
    "model_file_name = f'models/catboost_model_{timestamp}.pkl'\n",
    "joblib.dump(model, model_file_name)\n",
    "\n",
    "# Save the feature importance to a file with the timestamp\n",
    "feature_file_name = f'feature_importance/feature_importance{timestamp}.csv'\n",
    "df_importance.to_csv(feature_file_name, index=False)\n",
    "\n",
    "# Save the chart feauture importance\n",
    "plt.savefig(f'feature_importance/feature_importance{timestamp}.png')\n",
    "plt.savefig(f\"shap_analysis/shap_summary{timestamp}.png\")\n",
    "\n",
    "print(f\"Model saved successfully as {model_file_name}!\")"
   ]
  },
  {
   "cell_type": "markdown",
   "metadata": {},
   "source": [
    "# MLFlow"
   ]
  },
  {
   "cell_type": "code",
   "execution_count": 30,
   "metadata": {},
   "outputs": [],
   "source": [
    "# Dir to run the MLflow Ui:\n",
    "# (C:\\Users\\danrl\\anaconda3) PS C:\\Users\\danrl\\Documents\\Projects\\indicium_project> mlflow ui"
   ]
  },
  {
   "cell_type": "code",
   "execution_count": 44,
   "metadata": {},
   "outputs": [
    {
     "name": "stderr",
     "output_type": "stream",
     "text": [
      "2025/02/08 02:41:23 WARNING mlflow.models.model: Model logged without a signature and input example. Please set `input_example` parameter when logging the model to auto infer the model signature.\n"
     ]
    },
    {
     "name": "stdout",
     "output_type": "stream",
     "text": [
      "Experimento registrado no MLflow!\n"
     ]
    }
   ],
   "source": [
    "import mlflow\n",
    "import os\n",
    "import mlflow.sklearn\n",
    "\n",
    "# Definir um diretório de logs personalizado\n",
    "mlflow.set_tracking_uri(\"file:///c:/Users/danrl/Documents/Projects/indicium_project/mlruns\")\n",
    "\n",
    "# Definir o nome do experimento\n",
    "mlflow.set_experiment(nome_do_experimento) # Nome do experimento\n",
    "\n",
    "# Iniciar um novo experimento no MLflow\n",
    "with mlflow.start_run():\n",
    "    # Logar os hiperparâmetros no MLflow\n",
    "    mlflow.log_params(params)\n",
    "    \n",
    "    # Feature importance save\n",
    "    mlflow.log_artifact(f\"feature_importance/feature_importance{timestamp}.csv\")\n",
    "    \n",
    "    # SHAP summary plot\n",
    "    mlflow.log_artifact(f'feature_importance/feature_importance{timestamp}.png')\n",
    "\n",
    "    # Logar as métricas no MLflow\n",
    "    mlflow.log_metric(\"MSE\", mse)\n",
    "    mlflow.log_metric(\"RMSE\", rmse)\n",
    "    mlflow.log_metric(\"MAE\", mae)\n",
    "    mlflow.log_metric(\"R²\", r2)\n",
    "    \n",
    "    # Salvar o modelo no MLflow\n",
    "    mlflow.sklearn.log_model(model, \"CatBoost_Model\")\n",
    "    \n",
    "    # Salvar a distribuição dos erros residuais\n",
    "    # mlflow.log_artifact(\"analysis/residual_distribution.png\")\n",
    "    \n",
    "    # Salvar o gráfico de previsões vs. valores reais\n",
    "    # mlflow.log_artifact(\"predictions_vs_actuals.png\")\n",
    "    \n",
    "\n",
    "    print(\"Experimento registrado no MLflow!\")"
   ]
  },
  {
   "cell_type": "markdown",
   "metadata": {},
   "source": [
    "- ✅ Hiperparâmetros (learning_rate, depth, etc.)\n",
    "- ✅ Métricas (MSE, RMSE, R², MAE)\n",
    "- ✅ Importância das Features (Feature Importance)\n",
    "- ✅ Gráficos de Avaliação (Erros residuais, Previsões vs. Reais)\n",
    "- ✅ Explicabilidade do Modelo (SHAP)"
   ]
  },
  {
   "cell_type": "markdown",
   "metadata": {},
   "source": [
    "### Make Predictions:"
   ]
  },
  {
   "cell_type": "markdown",
   "metadata": {},
   "source": [
    "#### Load the Model"
   ]
  },
  {
   "cell_type": "code",
   "execution_count": 53,
   "metadata": {},
   "outputs": [
    {
     "name": "stdout",
     "output_type": "stream",
     "text": [
      "<catboost.core.CatBoostRegressor object at 0x000001FD233F7830>\n",
      "As features treinadas deste modelo foi: \n"
     ]
    },
    {
     "data": {
      "text/plain": [
       "['bairro_group',\n",
       " 'bairro',\n",
       " 'room_type',\n",
       " 'minimo_noites',\n",
       " 'numero_de_reviews',\n",
       " 'calculado_host_listings_count',\n",
       " 'disponibilidade_365']"
      ]
     },
     "execution_count": 53,
     "metadata": {},
     "output_type": "execute_result"
    }
   ],
   "source": [
    "# Load the Model\n",
    "import joblib\n",
    "\n",
    "model_path = 'models/catboost_model_20250205_123824.pkl'\n",
    "\n",
    "# Load the model from the file\n",
    "loaded_model = joblib.load(model_path)\n",
    "\n",
    "# Verify the model is loaded correctly\n",
    "print(loaded_model)\n",
    "print(\"As features treinadas deste modelo foi: \")\n",
    "features_to_predict = loaded_model.feature_names_\n",
    "features_to_predict"
   ]
  },
  {
   "cell_type": "markdown",
   "metadata": {},
   "source": [
    "#### Processing the Entries:"
   ]
  },
  {
   "cell_type": "code",
   "execution_count": 48,
   "metadata": {},
   "outputs": [
    {
     "data": {
      "text/plain": [
       "\"\\nentry_preprocessed = {\\n    'latitude': 40.75362,\\n    'longitude': -73.98377,\\n    'minimo_noites': 1,\\n    'numero_de_reviews': 45,\\n    'calculado_host_listings_count': 2,\\n    'disponibilidade_365': 355,\\n    'bairro_group_Bronx': 0,\\n    'bairro_group_Brooklyn': 0,\\n    'bairro_group_Manhattan': 1,\\n    'bairro_group_Queens': 0,\\n    'bairro_group_Staten Island': 0,\\n    'room_type_Entire home/apt': 1,\\n    'room_type_Private room': 0,\\n    'room_type_Shared room': 0\\n    }\\n\""
      ]
     },
     "execution_count": 48,
     "metadata": {},
     "output_type": "execute_result"
    }
   ],
   "source": [
    "# User Input\n",
    "entry = {'id': 2595,\n",
    " 'nome': 'Skylit Midtown Castle',\n",
    " 'host_id': 2845,\n",
    " 'host_name': 'Jennifer',\n",
    " 'bairro_group': 'Manhattan',\n",
    " 'bairro': 'Midtown',\n",
    " 'latitude': 40.75362,\n",
    " 'longitude': -73.98377,\n",
    " 'room_type': 'Entire home/apt',\n",
    " 'minimo_noites': 1,\n",
    " 'numero_de_reviews': 45,\n",
    " 'ultima_review': '2019-05-21',\n",
    " 'reviews_por_mes': 0.38,\n",
    " 'calculado_host_listings_count': 2,\n",
    " 'disponibilidade_365': 355\n",
    " }\n",
    "\n",
    "# Model Input:\n",
    "# id\tnome\thost_id\thost_name\tbairro_group\tbairro\tlatitude\tlongitude\troom_type\tminimo_noites\tnumero_de_reviews\tultima_review\treviews_por_mes\tcalculado_host_listings_count\tdisponibilidade_365\n",
    "'''\n",
    "entry_preprocessed = {\n",
    "    'latitude': 40.75362,\n",
    "    'longitude': -73.98377,\n",
    "    'minimo_noites': 1,\n",
    "    'numero_de_reviews': 45,\n",
    "    'calculado_host_listings_count': 2,\n",
    "    'disponibilidade_365': 355,\n",
    "    'bairro_group_Bronx': 0,\n",
    "    'bairro_group_Brooklyn': 0,\n",
    "    'bairro_group_Manhattan': 1,\n",
    "    'bairro_group_Queens': 0,\n",
    "    'bairro_group_Staten Island': 0,\n",
    "    'room_type_Entire home/apt': 1,\n",
    "    'room_type_Private room': 0,\n",
    "    'room_type_Shared room': 0\n",
    "    }\n",
    "'''"
   ]
  },
  {
   "cell_type": "markdown",
   "metadata": {},
   "source": [
    "#### Making Predictions:"
   ]
  },
  {
   "cell_type": "code",
   "execution_count": 54,
   "metadata": {},
   "outputs": [
    {
     "data": {
      "text/plain": [
       "['bairro_group',\n",
       " 'bairro',\n",
       " 'room_type',\n",
       " 'minimo_noites',\n",
       " 'numero_de_reviews',\n",
       " 'calculado_host_listings_count',\n",
       " 'disponibilidade_365']"
      ]
     },
     "execution_count": 54,
     "metadata": {},
     "output_type": "execute_result"
    }
   ],
   "source": [
    "features_to_predict = loaded_model.feature_names_\n",
    "features_to_predict"
   ]
  },
  {
   "cell_type": "code",
   "execution_count": 61,
   "metadata": {},
   "outputs": [
    {
     "name": "stdout",
     "output_type": "stream",
     "text": [
      "Predicted Price: $286.78\n"
     ]
    }
   ],
   "source": [
    "# Defina seu dicionário de entrada\n",
    "entry_to_predict = {\n",
    "    'bairro_group': 'Manhattan',\n",
    "    'bairro': 'Midtown',\n",
    "    'room_type': 'Entire home/apt',\n",
    "    'minimo_noites': 1,\n",
    "    'numero_de_reviews': 45,\n",
    "    'calculado_host_listings_count': 2,\n",
    "    'disponibilidade_365': 355\n",
    "}\n",
    "\n",
    "# Converta o dicionário para um DataFrame\n",
    "entry_to_predict_df = pd.DataFrame([entry_to_predict])\n",
    "\n",
    "# Agora, faça a previsão\n",
    "prediction = loaded_model.predict(entry_to_predict_df)\n",
    "\n",
    "# Exibir o resultado\n",
    "print(f\"Predicted Price: ${prediction[0]:.2f}\")\n"
   ]
  },
  {
   "cell_type": "markdown",
   "metadata": {},
   "source": [
    "### Using the Scaler:"
   ]
  },
  {
   "cell_type": "code",
   "execution_count": null,
   "metadata": {},
   "outputs": [],
   "source": [
    "### Use the scaler:\n",
    "\n",
    "# Load the scaler from the file\n",
    "scaler = joblib.load('models/scaler.pkl')\n",
    "\n",
    "# Scale the features\n",
    "entry_preprocessed_scaled = scaler.transform([list(entry_preprocessed.values())])\n",
    "print(entry_preprocessed_scaled)"
   ]
  },
  {
   "cell_type": "markdown",
   "metadata": {},
   "source": [
    "#### Making predictions:"
   ]
  },
  {
   "cell_type": "code",
   "execution_count": 42,
   "metadata": {},
   "outputs": [
    {
     "name": "stdout",
     "output_type": "stream",
     "text": [
      "Predicted Price: $0.91\n"
     ]
    }
   ],
   "source": [
    "# Make the prediction\n",
    "prediction = loaded_model.predict(features_scaled)\n",
    "print(f\"Predicted Price: ${prediction[0]:.2f}\")"
   ]
  }
 ],
 "metadata": {
  "kernelspec": {
   "display_name": "base",
   "language": "python",
   "name": "python3"
  },
  "language_info": {
   "codemirror_mode": {
    "name": "ipython",
    "version": 3
   },
   "file_extension": ".py",
   "mimetype": "text/x-python",
   "name": "python",
   "nbconvert_exporter": "python",
   "pygments_lexer": "ipython3",
   "version": "3.12.7"
  }
 },
 "nbformat": 4,
 "nbformat_minor": 2
}
